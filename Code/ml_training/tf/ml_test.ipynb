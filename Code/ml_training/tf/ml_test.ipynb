{
 "cells": [
  {
   "cell_type": "code",
   "execution_count": 1,
   "metadata": {},
   "outputs": [
    {
     "name": "stderr",
     "output_type": "stream",
     "text": [
      "2023-02-04 08:25:19.901625: I tensorflow/core/platform/cpu_feature_guard.cc:193] This TensorFlow binary is optimized with oneAPI Deep Neural Network Library (oneDNN) to use the following CPU instructions in performance-critical operations:  AVX2 FMA\n",
      "To enable them in other operations, rebuild TensorFlow with the appropriate compiler flags.\n",
      "2023-02-04 08:25:22.417875: W tensorflow/compiler/xla/stream_executor/platform/default/dso_loader.cc:64] Could not load dynamic library 'libnvinfer.so.7'; dlerror: libnvinfer.so.7: cannot open shared object file: No such file or directory\n",
      "2023-02-04 08:25:22.417964: W tensorflow/compiler/xla/stream_executor/platform/default/dso_loader.cc:64] Could not load dynamic library 'libnvinfer_plugin.so.7'; dlerror: libnvinfer_plugin.so.7: cannot open shared object file: No such file or directory\n",
      "2023-02-04 08:25:22.417977: W tensorflow/compiler/tf2tensorrt/utils/py_utils.cc:38] TF-TRT Warning: Cannot dlopen some TensorRT libraries. If you would like to use Nvidia GPU with TensorRT, please make sure the missing libraries mentioned above are installed properly.\n"
     ]
    }
   ],
   "source": [
    "\"\"\"\"\"\n",
    " *  \\brief     ml_test.ipynb\n",
    " *  \\author    Jonathan Reymond\n",
    " *  \\version   1.0\n",
    " *  \\date      2023-02-14\n",
    " *  \\pre       None\n",
    " *  \\copyright (c) 2022 CSEM\n",
    " *\n",
    " *   CSEM S.A.\n",
    " *   Jaquet-Droz 1\n",
    " *   CH-2000 Neuchâtel\n",
    " *   http://www.csem.ch\n",
    " *\n",
    " *\n",
    " *   THIS PROGRAM IS CONFIDENTIAL AND CANNOT BE DISTRIBUTED\n",
    " *   WITHOUT THE CSEM PRIOR WRITTEN AGREEMENT.\n",
    " *\n",
    " *   CSEM is the owner of this source code and is authorised to use, to modify\n",
    " *   and to keep confidential all new modifications of this code.\n",
    " *\n",
    " \"\"\"\n",
    "\n",
    "os.chdir('/local/user/jrn/tinyml-challenge-2022')\n",
    "sys.path.insert(0, '/local/user/jrn/tinyml-challenge-2022/ml_training')\n",
    "sys.path.insert(0, '/local/user/jrn/tinyml-challenge-2022/ml_training/preprocess_data')\n",
    "from preprocess_data.prepare_data import get_final_dataframe\n",
    "import numpy as np\n",
    "import pandas as pd\n",
    "import seaborn as sns\n",
    "import matplotlib.pyplot as plt\n",
    "from tf_to_tflite import *\n",
    "from tensorflow import keras\n",
    "from sklearn.model_selection import train_test_split\n",
    "from constants_ml import *\n",
    "from sklearn.metrics import classification_report, confusion_matrix\n",
    "from models import models_dict\n",
    "import random\n",
    "from utils import *\n",
    "\n",
    "import dataloader\n",
    "from collections import Counter\n",
    "\n",
    "\n",
    "sys.path.insert(0, 'ml_training/')\n",
    "sys.path.insert(0, 'ml_training/preprocess_data')\n",
    "from preprocess_data.constants import SAMPLING_FREQUENCY, INDEX_HOURS, get_result_filename\n",
    "sys.path.insert(0, 'ml_training/tools')\n",
    "from tools import print_progress_bar\n"
   ]
  },
  {
   "cell_type": "markdown",
   "metadata": {},
   "source": [
    "## Tflite model generation correction"
   ]
  },
  {
   "cell_type": "code",
   "execution_count": 39,
   "metadata": {},
   "outputs": [
    {
     "name": "stdout",
     "output_type": "stream",
     "text": [
      "Dataset already computed, loading from pickle\n"
     ]
    }
   ],
   "source": [
    "lowpass_freq = None\n",
    "merge_bucket_size = 1\n",
    "resample_frequency = None #SAMPLING_FREQUENCY / 2\n",
    "to_mfcc = False\n",
    "index_hours = range(85, 89)\n",
    "df = get_final_dataframe(merge_bucket_size, lowpass_freq, resample_frequency, to_mfcc, index_hours)\n",
    "X = df['audio'].to_list()\n",
    "labels = df['rain_count'].to_numpy()\n",
    "\n",
    "    \n",
    "X_list = [np.split(xi, SPLIT_FACTOR) for xi in X]\n",
    "X = list(itertools.chain.from_iterable(X_list))\n",
    "X = np.expand_dims(X, axis=-1)\n",
    "labels = np.repeat(labels, SPLIT_FACTOR)"
   ]
  },
  {
   "cell_type": "code",
   "execution_count": 41,
   "metadata": {},
   "outputs": [
    {
     "data": {
      "text/plain": [
       "Index(['timestamp', 'humidity', 'pressure', 'temperature', 'audio', 'wind_dir',\n",
       "       'wind_count', 'rain_count', 'wind_x', 'wind_y'],\n",
       "      dtype='object')"
      ]
     },
     "execution_count": 41,
     "metadata": {},
     "output_type": "execute_result"
    }
   ],
   "source": [
    "df.columns"
   ]
  },
  {
   "cell_type": "code",
   "execution_count": 40,
   "metadata": {},
   "outputs": [
    {
     "data": {
      "text/plain": [
       "10996"
      ]
     },
     "execution_count": 40,
     "metadata": {},
     "output_type": "execute_result"
    }
   ],
   "source": [
    "len(X)"
   ]
  },
  {
   "cell_type": "code",
   "execution_count": 7,
   "metadata": {},
   "outputs": [],
   "source": [
    "x_tr, x_te, y_tr, y_te = train_test_split(X, labels, test_size=0.3, random_state=1)\n"
   ]
  },
  {
   "cell_type": "code",
   "execution_count": 14,
   "metadata": {},
   "outputs": [],
   "source": [
    "def representative_data_gen(X):\n",
    "    for xi in X:\n",
    "        # need reshape (batch=1, size=32000, channel=1)\n",
    "        yield [np.array(xi, dtype=np.float32).reshape((1,-1, 1))]\n",
    "\n",
    "def get_tflite_interpreter2(model, with_optimization, with_quantization, store_path=None, X=None):\n",
    "    converter = tf.lite.TFLiteConverter.from_keras_model(model)\n",
    "    if with_optimization:\n",
    "        converter.optimizations = [tf.lite.Optimize.EXPERIMENTAL_SPARSITY, tf.lite.Optimize.DEFAULT]\n",
    "    if with_quantization:\n",
    "        X_r = X[5000:]\n",
    "        np.random.shuffle(X_r)\n",
    "        converter.representative_dataset = lambda : representative_data_gen(X_r)\n",
    "        # converter.target_spec.supported_ops = [tf.lite.OpsSet.TFLITE_BUILTINS_INT8] \n",
    "    tflite_model_ = converter.convert()\n",
    "    if store_path is not None:\n",
    "        tflite_model_file = pathlib.Path(store_path)\n",
    "        tflite_model_file.write_bytes(tflite_model_)\n",
    "\n",
    "    interpreter = tf.lite.Interpreter(model_content=tflite_model_)\n",
    "    interpreter.allocate_tensors()\n",
    "    input_details = interpreter.get_input_details()[0]['index']\n",
    "    output_details = interpreter.get_output_details()[0]['index']\n",
    "    return {'interpreter': interpreter, 'input':input_details, 'output':output_details}\n",
    "\n",
    "def is_correct(labels, outputs):\n",
    "    pred = outputs.argmax(axis=2)\n",
    "    return np.equal(labels, pred).astype(int)\n",
    "\n",
    "# for multiple inputs\n",
    "def tflite_eval(interpreter_dict, X):\n",
    "    interpreter = interpreter_dict['interpreter']\n",
    "    res = []\n",
    "    for i in range(len(X)):\n",
    "        if (i + 1)% 100 == 0 :\n",
    "            print('tflite evaluation :', i + 1, len(X), end=\"\\r\")\n",
    "        \n",
    "        interpreter.set_tensor(interpreter_dict['input'], X[i])\n",
    "        interpreter.invoke()\n",
    "        output_sample = interpreter.get_tensor(interpreter_dict['output'])\n",
    "        res.append(output_sample)\n",
    "    print()\n",
    "    return np.asarray(res)\n",
    "\n",
    "# for multiple inputs\n",
    "def tf_eval(tf_model, X):\n",
    "    infer_tf_model = tf_model.signatures[\"serving_default\"]\n",
    "    res = []\n",
    "    for i in range(len(X)):\n",
    "        if (i  + 1) % 100  == 0 :\n",
    "            print('tf evaluation :', i + 1, len(X), end=\"\\r\")\n",
    "        output_sample = infer_tf_model(X[i])['dense_2'].numpy()\n",
    "        res.append(output_sample)\n",
    "    print()\n",
    "    return res"
   ]
  },
  {
   "cell_type": "code",
   "execution_count": 15,
   "metadata": {},
   "outputs": [
    {
     "name": "stdout",
     "output_type": "stream",
     "text": [
      "INFO:tensorflow:Assets written to: /tmp/tmpt2clzg17/assets\n"
     ]
    },
    {
     "name": "stderr",
     "output_type": "stream",
     "text": [
      "INFO:tensorflow:Assets written to: /tmp/tmpt2clzg17/assets\n",
      "2022-11-14 16:47:04.177458: W tensorflow/compiler/mlir/lite/python/tf_tfl_flatbuffer_helpers.cc:363] Ignored output_format.\n",
      "2022-11-14 16:47:04.177482: W tensorflow/compiler/mlir/lite/python/tf_tfl_flatbuffer_helpers.cc:366] Ignored drop_control_dependency.\n",
      "2022-11-14 16:47:04.177659: I tensorflow/cc/saved_model/reader.cc:43] Reading SavedModel from: /tmp/tmpt2clzg17\n",
      "2022-11-14 16:47:04.182251: I tensorflow/cc/saved_model/reader.cc:107] Reading meta graph with tags { serve }\n",
      "2022-11-14 16:47:04.182266: I tensorflow/cc/saved_model/reader.cc:148] Reading SavedModel debug info (if present) from: /tmp/tmpt2clzg17\n",
      "2022-11-14 16:47:04.200302: I tensorflow/cc/saved_model/loader.cc:228] Restoring SavedModel bundle.\n",
      "2022-11-14 16:47:04.250867: I tensorflow/cc/saved_model/loader.cc:212] Running initialization op on SavedModel bundle at path: /tmp/tmpt2clzg17\n",
      "2022-11-14 16:47:04.278226: I tensorflow/cc/saved_model/loader.cc:301] SavedModel load for tags { serve }; Status: success: OK. Took 100568 microseconds.\n",
      "fully_quantize: 0, inference_type: 6, input_inference_type: 0, output_inference_type: 0\n"
     ]
    }
   ],
   "source": [
    "tflite_model = get_tflite_interpreter2(model, True, True, store_path=\"/local/user/jrn/tinyml-challenge-2022/results/m_test.tflite\", X=X)"
   ]
  },
  {
   "cell_type": "code",
   "execution_count": 16,
   "metadata": {},
   "outputs": [
    {
     "name": "stdout",
     "output_type": "stream",
     "text": [
      "tflite evaluation : 3200 3299\n"
     ]
    }
   ],
   "source": [
    "\n",
    "x_te_tflite = [tf.convert_to_tensor(xi.reshape(1, -1, 1)) for xi in x_te]\n",
    "res_tflite = tflite_eval(tflite_model, x_te_tflite)\n"
   ]
  },
  {
   "cell_type": "code",
   "execution_count": 17,
   "metadata": {},
   "outputs": [
    {
     "data": {
      "text/plain": [
       "array([[[0.99609375, 0.        , 0.        ]],\n",
       "\n",
       "       [[0.99609375, 0.        , 0.        ]],\n",
       "\n",
       "       [[0.99609375, 0.        , 0.        ]],\n",
       "\n",
       "       [[0.99609375, 0.        , 0.        ]],\n",
       "\n",
       "       [[0.99609375, 0.        , 0.        ]],\n",
       "\n",
       "       [[0.99609375, 0.        , 0.        ]],\n",
       "\n",
       "       [[0.99609375, 0.        , 0.        ]],\n",
       "\n",
       "       [[0.94140625, 0.05078125, 0.0078125 ]],\n",
       "\n",
       "       [[0.99609375, 0.        , 0.        ]],\n",
       "\n",
       "       [[0.99609375, 0.00390625, 0.        ]],\n",
       "\n",
       "       [[0.99609375, 0.        , 0.        ]],\n",
       "\n",
       "       [[0.99609375, 0.        , 0.        ]],\n",
       "\n",
       "       [[0.99609375, 0.        , 0.        ]],\n",
       "\n",
       "       [[0.99609375, 0.        , 0.        ]],\n",
       "\n",
       "       [[0.99609375, 0.        , 0.        ]],\n",
       "\n",
       "       [[0.53125   , 0.375     , 0.09375   ]],\n",
       "\n",
       "       [[0.99609375, 0.        , 0.        ]],\n",
       "\n",
       "       [[0.99609375, 0.        , 0.        ]],\n",
       "\n",
       "       [[0.99609375, 0.        , 0.        ]],\n",
       "\n",
       "       [[0.20703125, 0.6484375 , 0.14453125]]], dtype=float32)"
      ]
     },
     "execution_count": 17,
     "metadata": {},
     "output_type": "execute_result"
    }
   ],
   "source": [
    "res_tflite[:20]"
   ]
  },
  {
   "cell_type": "code",
   "execution_count": 31,
   "metadata": {},
   "outputs": [
    {
     "data": {
      "text/plain": [
       "array([[0.09609374],\n",
       "       [0.09609374],\n",
       "       [0.09609374],\n",
       "       ...,\n",
       "       [0.09609374],\n",
       "       [0.09609374],\n",
       "       [0.09609374]], dtype=float32)"
      ]
     },
     "execution_count": 31,
     "metadata": {},
     "output_type": "execute_result"
    }
   ],
   "source": [
    "res_tflite[:, :, 0]"
   ]
  },
  {
   "cell_type": "code",
   "execution_count": 37,
   "metadata": {},
   "outputs": [
    {
     "name": "stdout",
     "output_type": "stream",
     "text": [
      "[[2327  543  154]\n",
      " [ 106   94   61]\n",
      " [   6    1    7]]\n",
      "0.7359806001818733\n"
     ]
    }
   ],
   "source": [
    "res_tflite[:, :, 0] += 0.02 \n",
    "pred_tflite = np.argmax(res_tflite, 2).flatten()\n",
    "\n",
    "# print(confusion_matrix(pred_tf, labels_test))\n",
    "print(confusion_matrix(pred_tflite, y_te))\n",
    "\n",
    "acc = np.sum((pred_tflite == y_te).astype(np.int16)) / len(y_te)\n",
    "print(acc)"
   ]
  },
  {
   "cell_type": "code",
   "execution_count": 19,
   "metadata": {},
   "outputs": [
    {
     "name": "stdout",
     "output_type": "stream",
     "text": [
      "[[2081  144   13]\n",
      " [ 245  385   63]\n",
      " [ 113  109  146]]\n",
      "0.7917550772961504\n"
     ]
    }
   ],
   "source": [
    "y_pred = np.asarray(model.predict(x_te, verbose=0))\n",
    "y_pred = y_pred.argmax(axis=1)\n",
    "\n",
    "print(confusion_matrix(y_pred, y_te))\n",
    "acc = np.sum((y_pred == y_te).astype(np.int16)) / len(y_te)\n",
    "print(acc)"
   ]
  },
  {
   "cell_type": "markdown",
   "metadata": {},
   "source": [
    "## Test values"
   ]
  },
  {
   "cell_type": "code",
   "execution_count": null,
   "metadata": {},
   "outputs": [],
   "source": [
    "def wav_to_pcm(arr):\n",
    "    arr = arr.reshape((-1))\n",
    "    res = []\n",
    "    for val in arr :\n",
    "        val = val* 2**15\n",
    "        if val < 0 :\n",
    "            val += 2**16\n",
    "        res.append(int(val))\n",
    "    return res\n",
    "    "
   ]
  },
  {
   "cell_type": "code",
   "execution_count": null,
   "metadata": {},
   "outputs": [],
   "source": [
    "zeros_wav = np.zeros((1, 4096, 1), dtype=np.float32)\n",
    "zeros_pcm = wav_to_pcm(zeros_wav)\n",
    "print('zero value:', tflite_eval(tflite_interp_quant, [zeros_wav]))\n",
    "# print('pcm:', zeros_pcm)\n",
    "# print('wav:', list(zeros_wav.reshape((-1))))\n"
   ]
  },
  {
   "cell_type": "code",
   "execution_count": null,
   "metadata": {},
   "outputs": [],
   "source": [
    "wav = (np.arange(4096* 10, step = 10)/ 409600).reshape((1, 4096, 1)).astype(np.float32)\n",
    "\n",
    "zeros_pcm = wav_to_pcm(zeros_wav)\n",
    "print('zero value:', tflite_eval(tflite_interp_quant, [wav]))"
   ]
  },
  {
   "cell_type": "code",
   "execution_count": null,
   "metadata": {},
   "outputs": [],
   "source": [
    "sample_wav = np.array(X_test[2100], dtype=np.float32)\n",
    "sample_pcm = wav_to_pcm(sample_wav)\n",
    "print('sample value:', tflite_eval(tflite_interp_quant, [sample_wav]))\n",
    "print('pcm:', sample_pcm)\n",
    "print()\n",
    "print('wav:', list(sample_wav.reshape((-1))))"
   ]
  },
  {
   "cell_type": "code",
   "execution_count": null,
   "metadata": {},
   "outputs": [],
   "source": []
  },
  {
   "cell_type": "markdown",
   "metadata": {},
   "source": [
    "## Plots"
   ]
  },
  {
   "cell_type": "code",
   "execution_count": 22,
   "metadata": {},
   "outputs": [],
   "source": [
    "# Final \n",
    "arr1 = [[584,  40,  38],\n",
    " [ 59, 176,  77],\n",
    " [  9,  27, 101]]\n",
    "acc1 = 0.7749775052070618\n",
    "\n",
    "arr2 = [[584,  78],\n",
    " [ 68, 381]]\n",
    "acc2 = 0.8685868586858686\n",
    "\n",
    "\n",
    "\n",
    "# arr1 = [[1816,  514 ,  30],\n",
    "#  [ 598, 1513,  350],\n",
    "#  [  44,  393, 1437]]\n",
    "\n",
    "# arr2 = [[4441,  380],\n",
    "#  [ 437, 1437]]\n",
    "\n",
    "\n",
    "\n",
    "name = 'rain'\n",
    "\n",
    "if name == 'rain':\n",
    "    # arr1=[[9270,  397,   68],\n",
    "    # [1035, 1481,  205],\n",
    "    # [  55,  192,  687]]\n",
    "    # wind\n",
    "    \n",
    "#     arr1 = np.array([[7711, 1038,   17],\n",
    "#        [ 481, 2682,  315],\n",
    "#        [   0,   22,  215]])\n",
    "    \n",
    "    # arr1 = [[4990,  778,  104],\n",
    "    #     [ 338, 1232,  247],\n",
    "    #     [   0 ,  75,  604]]\n",
    "    arr1 = np.array([[7248, 1354,  149,   15],\n",
    "       [ 304, 1394,  298,   19],\n",
    "       [   9,  230, 1024,  200],\n",
    "       [   0,    0,   36,  201]])\n",
    "    arr1 = np.array([[7661, 1081,   24],\n",
    " [ 464, 2634,  380],\n",
    " [   0,   25,  212]])\n",
    "    # tflite\n",
    "    arr1 = np.array([[   75 , 4962 ,65559],\n",
    " [    0  ,1062  ,8293],\n",
    " [    0  ,  58 , 1532]])\n",
    "\n",
    "    # arr1 = np.array([[7407, 1244,  102,   13],\n",
    "    #    [ 329, 1385,  285,   16],\n",
    "    #    [  14,  247,  999,  203],\n",
    "    #    [   0,    2,   31,  204]])\n",
    "\n",
    "    # arr2=[[12183,   273],\n",
    "    # [  247,   687]]\n",
    "    arr2 = [[7338, 351],\n",
    "            [75,  604]]\n",
    "else :\n",
    "    #wind\n",
    "    # arr1=[[3362, 1235 ,  47],\n",
    "    #  [1104, 3315 , 504],\n",
    "    #  [  78,  996 ,2749]]\n",
    "    arr1 = np.array([[1348,  236,    7,    0],\n",
    "       [2383, 5623, 1192,   40],\n",
    "       [   6,  164,  970,  241],\n",
    "       [   0,    9,   54,  208]])\n",
    "    arr1 = np.array([[1376,  214,    1],\n",
    " [2592, 7178,  849],\n",
    " [   0,   24,  247]])\n",
    "\n",
    "    arr2=[[9016,  551],\n",
    "     [1074, 2749]]\n",
    "\n",
    "arr1 = np.asarray(arr1, dtype=np.int16)\n",
    "arr1 = arr1 / arr1.sum(axis=1).reshape((1, -1)).T\n",
    "\n",
    "arr2 = np.asarray(arr2, dtype=np.int16)\n",
    "arr2 = arr2 / arr2.sum(axis=1).reshape((1, -1)).T\n"
   ]
  },
  {
   "cell_type": "code",
   "execution_count": 17,
   "metadata": {},
   "outputs": [
    {
     "data": {
      "text/plain": [
       "[7338, 351]"
      ]
     },
     "execution_count": 17,
     "metadata": {},
     "output_type": "execute_result"
    }
   ],
   "source": [
    "[4990+ 778 + 338 + 1232, 104 + 247]"
   ]
  },
  {
   "cell_type": "code",
   "execution_count": 24,
   "metadata": {},
   "outputs": [
    {
     "data": {
      "image/png": "[encoded data removed]",
      "text/plain": [
       "<Figure size 288x252 with 2 Axes>"
      ]
     },
     "metadata": {
      "needs_background": "light"
     },
     "output_type": "display_data"
    }
   ],
   "source": [
    "index_names = ['no ' + name, 'little ' + name, name]#, 'strong ' + name]\n",
    "\n",
    "df_cm = pd.DataFrame(np.around(arr1, 3), index = index_names,\n",
    "                  columns = index_names)\n",
    "plt.figure(figsize = (4,3.5))\n",
    "sns.heatmap(df_cm, annot=True, fmt='g', cbar_kws={'label': 'probability distribution'}).set_title(name.title() + ' confusion matrix')\n",
    "plt.xlabel('predictions', fontsize=11)\n",
    "plt.ylabel('ground truth', fontsize=11)\n",
    "plt.savefig('confusion_matrix_last_3_' + name +'.png', dpi=150)"
   ]
  },
  {
   "cell_type": "code",
   "execution_count": 6,
   "metadata": {},
   "outputs": [
    {
     "data": {
      "text/plain": [
       "Text(14.999999999999996, 0.5, 'ground truth')"
      ]
     },
     "execution_count": 6,
     "metadata": {},
     "output_type": "execute_result"
    },
    {
     "data": {
      "image/png": "[encoded data removed]",
      "text/plain": [
       "<Figure size 288x252 with 2 Axes>"
      ]
     },
     "metadata": {
      "needs_background": "light"
     },
     "output_type": "display_data"
    }
   ],
   "source": [
    "df_cm = pd.DataFrame(np.around(arr2, 3), index = [i for i in ['no/little ' + name, name]],\n",
    "                  columns = ['no/little ' + name, name])\n",
    "plt.figure(figsize = (4,3.5))\n",
    "sns.heatmap(df_cm, annot=True, fmt='g', cbar_kws={'label': 'probability distribution'}).set_title(name.title() + ' confusion matrix')\n",
    "plt.xlabel('predictions', fontsize=11)\n",
    "plt.ylabel('ground truth', fontsize=11)\n",
    "plt.savefig('confusion_matrix_htsat_' + name + '_binary.png', dpi=150)"
   ]
  },
  {
   "cell_type": "markdown",
   "metadata": {},
   "source": [
    "## Draft "
   ]
  },
  {
   "cell_type": "code",
   "execution_count": 3,
   "metadata": {},
   "outputs": [
    {
     "name": "stdout",
     "output_type": "stream",
     "text": [
      "extracting dataset\n",
      "[=================================> ]  100.0%   24/24\n"
     ]
    }
   ],
   "source": [
    "df = dataloader.get_dataset()"
   ]
  },
  {
   "cell_type": "code",
   "execution_count": 30,
   "metadata": {},
   "outputs": [],
   "source": [
    "def compress_labels2(x):\n",
    "    if x < 6:\n",
    "        return 0\n",
    "    elif x < 12:\n",
    "        return 1\n",
    "    else :\n",
    "        return 2"
   ]
  },
  {
   "cell_type": "code",
   "execution_count": 31,
   "metadata": {},
   "outputs": [
    {
     "data": {
      "text/plain": [
       "<AxesSubplot:xlabel='wind_count', ylabel='Count'>"
      ]
     },
     "execution_count": 31,
     "metadata": {},
     "output_type": "execute_result"
    },
    {
     "data": {
      "image/png": "[encoded data removed]",
      "text/plain": [
       "<Figure size 432x288 with 1 Axes>"
      ]
     },
     "metadata": {
      "needs_background": "light"
     },
     "output_type": "display_data"
    }
   ],
   "source": [
    "sns.histplot(df['wind_count'].map(compress_labels2))"
   ]
  },
  {
   "cell_type": "code",
   "execution_count": 19,
   "metadata": {},
   "outputs": [
    {
     "data": {
      "text/plain": [
       "<AxesSubplot:xlabel='wind_count', ylabel='Count'>"
      ]
     },
     "execution_count": 19,
     "metadata": {},
     "output_type": "execute_result"
    },
    {
     "data": {
      "image/png": "[encoded data removed]",
      "text/plain": [
       "<Figure size 432x288 with 1 Axes>"
      ]
     },
     "metadata": {
      "needs_background": "light"
     },
     "output_type": "display_data"
    }
   ],
   "source": [
    "sns.histplot(df['wind_count'])"
   ]
  },
  {
   "cell_type": "code",
   "execution_count": 12,
   "metadata": {},
   "outputs": [
    {
     "data": {
      "text/plain": [
       "[(0.0, 5243),\n",
       " (1.0, 1),\n",
       " (2.0, 3908),\n",
       " (3.0, 2),\n",
       " (4.0, 5583),\n",
       " (5.0, 4),\n",
       " (6.0, 5689),\n",
       " (7.0, 12),\n",
       " (8.0, 5373),\n",
       " (9.0, 12),\n",
       " (10.0, 4393),\n",
       " (11.0, 7),\n",
       " (12.0, 3452),\n",
       " (13.0, 5),\n",
       " (14.0, 2569),\n",
       " (15.0, 8),\n",
       " (16.0, 1807),\n",
       " (17.0, 2),\n",
       " (18.0, 1291),\n",
       " (19.0, 4),\n",
       " (20.0, 853),\n",
       " (21.0, 3),\n",
       " (22.0, 626),\n",
       " (23.0, 2),\n",
       " (24.0, 341),\n",
       " (26.0, 220),\n",
       " (28.0, 158),\n",
       " (29.0, 2),\n",
       " (30.0, 107),\n",
       " (32.0, 57),\n",
       " (34.0, 50),\n",
       " (36.0, 25),\n",
       " (38.0, 11),\n",
       " (40.0, 11),\n",
       " (42.0, 5),\n",
       " (44.0, 2),\n",
       " (46.0, 2),\n",
       " (48.0, 3)]"
      ]
     },
     "execution_count": 12,
     "metadata": {},
     "output_type": "execute_result"
    }
   ],
   "source": [
    "sorted(Counter(df['wind_count']).items())"
   ]
  },
  {
   "cell_type": "code",
   "execution_count": 9,
   "metadata": {},
   "outputs": [
    {
     "data": {
      "text/html": [
       "<div>\n",
       "<style scoped>\n",
       "    .dataframe tbody tr th:only-of-type {\n",
       "        vertical-align: middle;\n",
       "    }\n",
       "\n",
       "    .dataframe tbody tr th {\n",
       "        vertical-align: top;\n",
       "    }\n",
       "\n",
       "    .dataframe thead th {\n",
       "        text-align: right;\n",
       "    }\n",
       "</style>\n",
       "<table border=\"1\" class=\"dataframe\">\n",
       "  <thead>\n",
       "    <tr style=\"text-align: right;\">\n",
       "      <th></th>\n",
       "      <th>timestamp</th>\n",
       "      <th>humidity</th>\n",
       "      <th>pressure</th>\n",
       "      <th>temperature</th>\n",
       "      <th>audio</th>\n",
       "      <th>wind_dir</th>\n",
       "      <th>wind_count</th>\n",
       "      <th>rain_count</th>\n",
       "      <th>wind_x</th>\n",
       "      <th>wind_y</th>\n",
       "    </tr>\n",
       "  </thead>\n",
       "  <tbody>\n",
       "    <tr>\n",
       "      <th>0</th>\n",
       "      <td>306002.389</td>\n",
       "      <td>0.884332</td>\n",
       "      <td>0.115592</td>\n",
       "      <td>0.185033</td>\n",
       "      <td>[-0.05419922, -0.0541687, -0.0541687, -0.05419...</td>\n",
       "      <td>0.714286</td>\n",
       "      <td>0.0</td>\n",
       "      <td>0.0</td>\n",
       "      <td>0.500000</td>\n",
       "      <td>0.470588</td>\n",
       "    </tr>\n",
       "    <tr>\n",
       "      <th>1</th>\n",
       "      <td>306014.653</td>\n",
       "      <td>0.883627</td>\n",
       "      <td>0.110173</td>\n",
       "      <td>0.185033</td>\n",
       "      <td>[-0.054473877, -0.05444336, -0.054504395, -0.0...</td>\n",
       "      <td>0.714286</td>\n",
       "      <td>0.0</td>\n",
       "      <td>0.0</td>\n",
       "      <td>0.500000</td>\n",
       "      <td>0.470588</td>\n",
       "    </tr>\n",
       "    <tr>\n",
       "      <th>2</th>\n",
       "      <td>306016.697</td>\n",
       "      <td>0.883479</td>\n",
       "      <td>0.116900</td>\n",
       "      <td>0.186590</td>\n",
       "      <td>[-0.05456543, -0.054504395, -0.054382324, -0.0...</td>\n",
       "      <td>0.714286</td>\n",
       "      <td>0.0</td>\n",
       "      <td>0.0</td>\n",
       "      <td>0.500000</td>\n",
       "      <td>0.470588</td>\n",
       "    </tr>\n",
       "    <tr>\n",
       "      <th>3</th>\n",
       "      <td>306018.741</td>\n",
       "      <td>0.884464</td>\n",
       "      <td>0.109880</td>\n",
       "      <td>0.185967</td>\n",
       "      <td>[-0.054504395, -0.054534912, -0.054504395, -0....</td>\n",
       "      <td>0.714286</td>\n",
       "      <td>0.0</td>\n",
       "      <td>0.0</td>\n",
       "      <td>0.500000</td>\n",
       "      <td>0.470588</td>\n",
       "    </tr>\n",
       "    <tr>\n",
       "      <th>4</th>\n",
       "      <td>306020.785</td>\n",
       "      <td>0.884464</td>\n",
       "      <td>0.109880</td>\n",
       "      <td>0.185967</td>\n",
       "      <td>[-0.0546875, -0.0546875, -0.054626465, -0.0545...</td>\n",
       "      <td>0.714286</td>\n",
       "      <td>0.0</td>\n",
       "      <td>0.0</td>\n",
       "      <td>0.500000</td>\n",
       "      <td>0.470588</td>\n",
       "    </tr>\n",
       "    <tr>\n",
       "      <th>...</th>\n",
       "      <td>...</td>\n",
       "      <td>...</td>\n",
       "      <td>...</td>\n",
       "      <td>...</td>\n",
       "      <td>...</td>\n",
       "      <td>...</td>\n",
       "      <td>...</td>\n",
       "      <td>...</td>\n",
       "      <td>...</td>\n",
       "      <td>...</td>\n",
       "    </tr>\n",
       "    <tr>\n",
       "      <th>1028</th>\n",
       "      <td>319280.677</td>\n",
       "      <td>0.889803</td>\n",
       "      <td>0.147411</td>\n",
       "      <td>0.236120</td>\n",
       "      <td>[-0.055145264, -0.055023193, -0.054992676, -0....</td>\n",
       "      <td>0.142857</td>\n",
       "      <td>4.0</td>\n",
       "      <td>1.0</td>\n",
       "      <td>0.588388</td>\n",
       "      <td>0.553777</td>\n",
       "    </tr>\n",
       "    <tr>\n",
       "      <th>1029</th>\n",
       "      <td>319284.765</td>\n",
       "      <td>0.890297</td>\n",
       "      <td>0.146627</td>\n",
       "      <td>0.235809</td>\n",
       "      <td>[-0.054504395, -0.05456543, -0.054656982, -0.0...</td>\n",
       "      <td>0.285714</td>\n",
       "      <td>8.0</td>\n",
       "      <td>1.0</td>\n",
       "      <td>0.500000</td>\n",
       "      <td>0.705882</td>\n",
       "    </tr>\n",
       "    <tr>\n",
       "      <th>1030</th>\n",
       "      <td>319286.809</td>\n",
       "      <td>0.890991</td>\n",
       "      <td>0.148524</td>\n",
       "      <td>0.235497</td>\n",
       "      <td>[-0.055419922, -0.055419922, -0.055114746, -0....</td>\n",
       "      <td>0.285714</td>\n",
       "      <td>8.0</td>\n",
       "      <td>1.0</td>\n",
       "      <td>0.500000</td>\n",
       "      <td>0.705882</td>\n",
       "    </tr>\n",
       "    <tr>\n",
       "      <th>1031</th>\n",
       "      <td>319288.853</td>\n",
       "      <td>0.891607</td>\n",
       "      <td>0.152053</td>\n",
       "      <td>0.235809</td>\n",
       "      <td>[-0.05532837, -0.05529785, -0.05529785, -0.055...</td>\n",
       "      <td>0.285714</td>\n",
       "      <td>8.0</td>\n",
       "      <td>1.0</td>\n",
       "      <td>0.500000</td>\n",
       "      <td>0.705882</td>\n",
       "    </tr>\n",
       "    <tr>\n",
       "      <th>1032</th>\n",
       "      <td>319290.897</td>\n",
       "      <td>0.891898</td>\n",
       "      <td>0.145811</td>\n",
       "      <td>0.235497</td>\n",
       "      <td>[-0.05444336, -0.05444336, -0.05444336, -0.054...</td>\n",
       "      <td>0.285714</td>\n",
       "      <td>12.0</td>\n",
       "      <td>0.0</td>\n",
       "      <td>0.500000</td>\n",
       "      <td>0.823529</td>\n",
       "    </tr>\n",
       "  </tbody>\n",
       "</table>\n",
       "<p>5498 rows × 10 columns</p>\n",
       "</div>"
      ],
      "text/plain": [
       "       timestamp  humidity  pressure  temperature  \\\n",
       "0     306002.389  0.884332  0.115592     0.185033   \n",
       "1     306014.653  0.883627  0.110173     0.185033   \n",
       "2     306016.697  0.883479  0.116900     0.186590   \n",
       "3     306018.741  0.884464  0.109880     0.185967   \n",
       "4     306020.785  0.884464  0.109880     0.185967   \n",
       "...          ...       ...       ...          ...   \n",
       "1028  319280.677  0.889803  0.147411     0.236120   \n",
       "1029  319284.765  0.890297  0.146627     0.235809   \n",
       "1030  319286.809  0.890991  0.148524     0.235497   \n",
       "1031  319288.853  0.891607  0.152053     0.235809   \n",
       "1032  319290.897  0.891898  0.145811     0.235497   \n",
       "\n",
       "                                                  audio  wind_dir  wind_count  \\\n",
       "0     [-0.05419922, -0.0541687, -0.0541687, -0.05419...  0.714286         0.0   \n",
       "1     [-0.054473877, -0.05444336, -0.054504395, -0.0...  0.714286         0.0   \n",
       "2     [-0.05456543, -0.054504395, -0.054382324, -0.0...  0.714286         0.0   \n",
       "3     [-0.054504395, -0.054534912, -0.054504395, -0....  0.714286         0.0   \n",
       "4     [-0.0546875, -0.0546875, -0.054626465, -0.0545...  0.714286         0.0   \n",
       "...                                                 ...       ...         ...   \n",
       "1028  [-0.055145264, -0.055023193, -0.054992676, -0....  0.142857         4.0   \n",
       "1029  [-0.054504395, -0.05456543, -0.054656982, -0.0...  0.285714         8.0   \n",
       "1030  [-0.055419922, -0.055419922, -0.055114746, -0....  0.285714         8.0   \n",
       "1031  [-0.05532837, -0.05529785, -0.05529785, -0.055...  0.285714         8.0   \n",
       "1032  [-0.05444336, -0.05444336, -0.05444336, -0.054...  0.285714        12.0   \n",
       "\n",
       "      rain_count    wind_x    wind_y  \n",
       "0            0.0  0.500000  0.470588  \n",
       "1            0.0  0.500000  0.470588  \n",
       "2            0.0  0.500000  0.470588  \n",
       "3            0.0  0.500000  0.470588  \n",
       "4            0.0  0.500000  0.470588  \n",
       "...          ...       ...       ...  \n",
       "1028         1.0  0.588388  0.553777  \n",
       "1029         1.0  0.500000  0.705882  \n",
       "1030         1.0  0.500000  0.705882  \n",
       "1031         1.0  0.500000  0.705882  \n",
       "1032         0.0  0.500000  0.823529  \n",
       "\n",
       "[5498 rows x 10 columns]"
      ]
     },
     "execution_count": 9,
     "metadata": {},
     "output_type": "execute_result"
    }
   ],
   "source": [
    "df = pd.read_pickle('/local/user/jrn/tinyml-challenge-2022/final_dataset_86_87_88.pkl')\n"
   ]
  },
  {
   "cell_type": "code",
   "execution_count": 8,
   "metadata": {},
   "outputs": [
    {
     "data": {
      "text/plain": [
       "0.0    4053\n",
       "1.0    1027\n",
       "2.0     418\n",
       "Name: rain_count, dtype: int64"
      ]
     },
     "execution_count": 8,
     "metadata": {},
     "output_type": "execute_result"
    }
   ],
   "source": [
    "df['rain_count'].value_counts()"
   ]
  },
  {
   "cell_type": "code",
   "execution_count": null,
   "metadata": {},
   "outputs": [],
   "source": []
  },
  {
   "attachments": {},
   "cell_type": "markdown",
   "metadata": {},
   "source": [
    "## one hot encoding test"
   ]
  },
  {
   "cell_type": "code",
   "execution_count": 4,
   "metadata": {},
   "outputs": [
    {
     "data": {
      "text/plain": [
       "(array([[0]]),\n",
       " array([[1., 0., 0., 0., 0., 0., 1., 0., 0.],\n",
       "        [0., 0., 1., 0., 0., 0., 0., 1., 0.],\n",
       "        [0., 0., 0., 0., 1., 0., 0., 0., 1.],\n",
       "        [0., 1., 0., 0., 0., 1., 0., 0., 0.],\n",
       "        [0., 1., 0., 0., 0., 1., 0., 0., 0.],\n",
       "        [0., 1., 0., 0., 0., 0., 1., 0., 0.],\n",
       "        [0., 0., 0., 1., 0., 0., 0., 0., 1.],\n",
       "        [0., 0., 0., 1., 0., 0., 1., 0., 0.],\n",
       "        [0., 0., 1., 0., 0., 0., 0., 1., 0.]]),\n",
       " [5, 4])"
      ]
     },
     "execution_count": 4,
     "metadata": {},
     "output_type": "execute_result"
    }
   ],
   "source": [
    "labels_rain = [0,2,4,1,1,1,3,3,2]\n",
    "labels_wind = [1,2,3,0,0,1,3,1,2]\n",
    "X = [0]\n",
    "reformat_dataset(X, (labels_rain, labels_wind), True)"
   ]
  },
  {
   "cell_type": "code",
   "execution_count": 6,
   "metadata": {},
   "outputs": [
    {
     "data": {
      "text/plain": [
       "[4, 9, 14, 19]"
      ]
     },
     "execution_count": 6,
     "metadata": {},
     "output_type": "execute_result"
    }
   ],
   "source": [
    "import re\n",
    "[m.end() for m in re.finditer('test', 'test test test test')]"
   ]
  },
  {
   "cell_type": "code",
   "execution_count": 18,
   "metadata": {},
   "outputs": [
    {
     "name": "stdout",
     "output_type": "stream",
     "text": [
      "zt 2     4 int zt;\n",
      "w 1     11 public int w = 3;\n",
      "nu 2     17 public final int nu;public a(d dVar, int i, int i2);\n",
      "i 1     41 public final int nu;public a(d dVar, int i, int i2);\n",
      "i2 2     48 public final int nu;public a(d dVar, int i, int i2);\n",
      "getScoreOrder 13     11 public int getScoreOrder() {int getInteger;\n",
      "getInteger 10     32 public int getScoreOrder() {int getInteger;\n",
      "i 1     9 for (int i = 0; i < this.nu; i++)\n",
      "t 1     22 {public a(d dVar, int t) {super(dVar, i);\n",
      "z 1     12 private int z = true ;if (getType() != 1) {z = false;\n",
      "g 1     14 protected int g = true;\n",
      "z 1     16 unprotected int z = true;if (getType() != 1) {z = false;\n",
      "getType 7     11 public int getType() {return getInteger();\n",
      "y 1     4 int y;\n",
      " 0     6 print (int i) {int k = b.k(parcel);\n",
      "i 1     11 print (int i) {int k = b.k(parcel);\n",
      "k 1     19 print (int i) {int k = b.k(parcel);\n"
     ]
    }
   ],
   "source": [
    "data = [\"int zt;\",\n",
    "  \"public int w = 3;\",\n",
    "  \"public final int nu;public a(d dVar, int i, int i2);\",\n",
    "  \"public int getScoreOrder() {int getInteger;\",\n",
    "  \"for (int i = 0; i < this.nu; i++)\",\n",
    "  \"{public a(d dVar, int t) {super(dVar, i);\",\n",
    "  \"private int z = true ;if (getType() != 1) {z = false;\",\n",
    "  \"protected int g = true;\",\n",
    "  \"unprotected int z = true;if (getType() != 1) {z = false;\",\n",
    "  \"public int getType() {return getInteger();\",\n",
    "  \"int y;\",\n",
    "  \"print (int i) {int k = b.k(parcel);\"]\n",
    "\n",
    "list_end = [\"=\",\";\",\")\",\"(\",\",\", \" \"]\n",
    "\n",
    "\n",
    "\n",
    "for s in data :\n",
    "    for idx in [m.end() for m in re.finditer('int ', s)]:\n",
    "        idx_end = idx\n",
    "        while s[idx_end] not in list_end and idx_end < len(s):\n",
    "            idx_end += 1\n",
    "            \n",
    "        print(s[idx:idx_end], len(s[idx:idx_end]),'   ',idx, s)\n",
    "        \n",
    "        # for sep in list_end :\n",
    "        #     s = s.replace(sep, ' ')\n",
    "        # print(s[idx:].split()[0])"
   ]
  },
  {
   "attachments": {},
   "cell_type": "markdown",
   "metadata": {},
   "source": [
    "## Weighted crossentropy loss"
   ]
  },
  {
   "cell_type": "code",
   "execution_count": 85,
   "metadata": {},
   "outputs": [],
   "source": [
    "def weighted_categorical_crossentropy(target, output, weights):\n",
    "    idx1 = K.argmax(output, axis=1)\n",
    "    idx2 = K.argmax(target, axis=1)\n",
    "    mask = tf.gather_nd(weights, tf.stack((idx1, idx2), -1))\n",
    "    print('mask', mask)\n",
    "    return K.categorical_crossentropy(target, output) * mask\n",
    "\n",
    "#assume weights from zero to n-1 (total number of classes)\n",
    "def weights_to_matrix(weights_dict):\n",
    "    num_classes = len(weights_dict)\n",
    "    weights = ([weights_dict[i] for i in range(num_classes)])\n",
    "    matrix = 1 - np.eye(num_classes)\n",
    "    return (matrix * weights)"
   ]
  },
  {
   "cell_type": "code",
   "execution_count": 86,
   "metadata": {},
   "outputs": [],
   "source": [
    "def weighted_categorical_crossentropy_new(target, output, weights_table):\n",
    "    weights_vect = weights_table.lookup(K.argmax(target, axis=1))\n",
    "    return K.categorical_crossentropy(target, output) * weights_vect"
   ]
  },
  {
   "cell_type": "code",
   "execution_count": 92,
   "metadata": {},
   "outputs": [],
   "source": [
    "weights_dict = {0: 2, 1: 10, 2: 100}\n",
    "weights_matrix = weights_to_matrix(weights_dict)\n",
    "weights = ([weights_dict[i] for i in range(len(weights_dict))])\n",
    "\n",
    "weights_table = tf.lookup.StaticHashTable(\n",
    "        tf.lookup.KeyValueTensorInitializer(\n",
    "            list(weights_dict.keys()),\n",
    "            list(weights_dict.values()),\n",
    "            key_dtype=tf.int64,\n",
    "            value_dtype=tf.float64,\n",
    "        ),\n",
    "        default_value=-1)\n",
    "\n"
   ]
  },
  {
   "cell_type": "code",
   "execution_count": 94,
   "metadata": {},
   "outputs": [
    {
     "name": "stdout",
     "output_type": "stream",
     "text": [
      "weights\n",
      "{0: 2, 1: 10, 2: 100}\n",
      "target:  tf.Tensor([2 0 1 0], shape=(4,), dtype=int64) [100, 2, 10, 2]\n",
      "output:  tf.Tensor([1 1 2 2], shape=(4,), dtype=int64) [10, 10, 100, 100]\n",
      "simplified weighted\n",
      "tf.Tensor([230.2585093   32.2361913  161.18095651   4.60517019], shape=(4,), dtype=float64)\n"
     ]
    },
    {
     "data": {
      "text/plain": [
       "<tf.Tensor: shape=(4,), dtype=float64, numpy=array([ 2.30258509, 16.11809565, 16.11809565,  2.30258509])>"
      ]
     },
     "execution_count": 94,
     "metadata": {},
     "output_type": "execute_result"
    }
   ],
   "source": [
    "\n",
    "\n",
    "target = tf.convert_to_tensor(np.array([[0,   0,   1], \n",
    "                                [1,   0,   0], \n",
    "                                [0,   1,   0], \n",
    "                                [1,   0,   0]], dtype=float))\n",
    "\n",
    "output = tf.convert_to_tensor(np.array([[0,   0.9, 0.1], \n",
    "                                [0,   1,   0], \n",
    "                                [0, 0, 1], \n",
    "                                [0.1, 0.3, 0.6]]))\n",
    "\n",
    "print('weights')\n",
    "print(weights_dict)\n",
    "\n",
    "print('target: ', K.argmax(target, axis=1), [weights_dict[i] for i in K.argmax(target, axis=1).numpy()])\n",
    "print('output: ', K.argmax(output, axis=1), [weights_dict[i] for i in K.argmax(output, axis=1).numpy()])\n",
    "# print('normal weighted')\n",
    "# print(weighted_categorical_crossentropy(target, output, weights_matrix))\n",
    "print('simplified weighted')\n",
    "print(weighted_categorical_crossentropy_new(target, output, weights_table))\n",
    "# print('unweighted')\n",
    "K.categorical_crossentropy(target, output)\n"
   ]
  },
  {
   "attachments": {},
   "cell_type": "markdown",
   "metadata": {},
   "source": [
    "## Draft"
   ]
  },
  {
   "cell_type": "code",
   "execution_count": 4,
   "metadata": {},
   "outputs": [
    {
     "name": "stderr",
     "output_type": "stream",
     "text": [
      "/local/user/jrn/python_env/lib/python3.9/site-packages/tensorflow_addons/utils/ensure_tf_install.py:53: UserWarning: Tensorflow Addons supports using Python ops for all Tensorflow versions above or equal to 2.8.0 and strictly below 2.11.0 (nightly versions are not supported). \n",
      " The versions of TensorFlow you are currently using is 2.11.0 and is not supported. \n",
      "Some things might work, some things might not.\n",
      "If you were to encounter a bug, do not file an issue.\n",
      "If you want to make sure you're using a tested and supported configuration, either change the TensorFlow version or the TensorFlow Addons's version. \n",
      "You can find the compatibility matrix in TensorFlow Addon's readme:\n",
      "https://github.com/tensorflow/addons\n",
      "  warnings.warn(\n",
      "Loading cudnn/8.1\n",
      "  Module ERROR: no such variable\n",
      "        (read trace on \"env(CUDA_VERSION)\")\n",
      "        invoked from within\n",
      "    \"set               cudaversion\t      $env(CUDA_VERSION)\"\n",
      "        (file \"/local/user/toolsm64/linux64_el7/usr/local/modulefiles/cudnn/8.1\"\n",
      "    line 7)\n",
      "    Please contact <root@localhost>\n"
     ]
    }
   ],
   "source": [
    "import tensorflow_models as tfm\n",
    "import sys\n",
    "import os\n",
    "# os.chdir('/local/user/jrn/tinyml-challenge-2022')\n",
    "os.system(\"module load cuda/11.2\")\n",
    "os.system(\"module load cudnn/8.1\")\n",
    "\n",
    "\n",
    "# import tensorflow_models as tfm\n",
    "\n",
    "from models import *\n",
    "from utils import *\n",
    "sys.path.insert(0, '/local/user/jrn/tinyml-challenge-2022/ml_training')\n",
    "sys.path.insert(0, '/local/user/jrn/tinyml-challenge-2022/ml_training/preprocess_data')\n",
    "from preprocess_data.prepare_data import get_rain_dataset\n",
    "import dataloader\n",
    "\n",
    "import numpy as np\n",
    "import pandas as pd\n",
    "from collections import Counter\n",
    "\n",
    "import tensorflow as tf\n",
    "import tensorflow_model_optimization as tfmot\n",
    "from keras.callbacks import ReduceLROnPlateau\n",
    "\n",
    "from sklearn.model_selection import train_test_split\n",
    "from sklearn.utils import class_weight\n",
    "\n",
    "from functools import partial\n",
    "import keras.backend as K"
   ]
  },
  {
   "cell_type": "code",
   "execution_count": 6,
   "metadata": {},
   "outputs": [],
   "source": [
    "class_reweightings=dict(rain=True, wind=True)\n",
    "os.chdir('/local/user/jrn/tinyml-challenge-2022')"
   ]
  },
  {
   "cell_type": "code",
   "execution_count": 7,
   "metadata": {},
   "outputs": [
    {
     "name": "stdout",
     "output_type": "stream",
     "text": [
      "Package                       Version\n",
      "----------------------------- ------------\n",
      "absl-py                       1.2.0\n",
      "addict                        2.4.0\n",
      "aiohttp                       3.8.3\n",
      "aiosignal                     1.3.1\n",
      "alembic                       1.8.1\n",
      "appdirs                       1.4.4\n",
      "argon2-cffi                   21.3.0\n",
      "argon2-cffi-bindings          21.2.0\n",
      "argparse-addons               0.8.0\n",
      "asttokens                     2.0.8\n",
      "astunparse                    1.6.3\n",
      "async-timeout                 4.0.2\n",
      "attrs                         22.1.0\n",
      "audioread                     3.0.0\n",
      "autopage                      0.5.1\n",
      "backcall                      0.2.0\n",
      "beautifulsoup4                4.11.1\n",
      "bincopy                       17.14.0\n",
      "bleach                        5.0.1\n",
      "cachetools                    5.2.0\n",
      "certifi                       2022.6.15\n",
      "cffi                          1.15.1\n",
      "charset-normalizer            2.1.0\n",
      "clang                         5.0\n",
      "click                         8.1.3\n",
      "cliff                         4.0.0\n",
      "cloudpickle                   2.2.0\n",
      "cmaes                         0.8.2\n",
      "cmake                         3.24.1.1\n",
      "cmd2                          2.4.2\n",
      "colorama                      0.4.6\n",
      "coloredlogs                   15.0.1\n",
      "colorlog                      6.7.0\n",
      "commonmark                    0.9.1\n",
      "cycler                        0.11.0\n",
      "Cython                        0.29.33\n",
      "debugpy                       1.6.3\n",
      "decorator                     5.1.1\n",
      "defusedxml                    0.7.1\n",
      "dill                          0.3.5.1\n",
      "dm-tree                       0.1.7\n",
      "docopt                        0.6.2\n",
      "editdistance                  0.6.0\n",
      "entrypoints                   0.4\n",
      "etils                         0.8.0\n",
      "executing                     0.10.0\n",
      "fast_ctc_decode               0.3.2\n",
      "fastjsonschema                2.16.1\n",
      "ffmpeg-python                 0.2.0\n",
      "filelock                      3.8.0\n",
      "fire                          0.4.0\n",
      "flatbuffers                   23.1.4\n",
      "fonttools                     4.35.0\n",
      "frozenlist                    1.3.3\n",
      "fsspec                        2022.11.0\n",
      "future                        0.18.2\n",
      "gast                          0.4.0\n",
      "gdown                         4.5.3\n",
      "gin-config                    0.5.0\n",
      "google-api-core               2.11.0\n",
      "google-api-python-client      2.73.0\n",
      "google-auth                   2.16.0\n",
      "google-auth-httplib2          0.1.0\n",
      "google-auth-oauthlib          0.4.6\n",
      "google-pasta                  0.2.0\n",
      "googleapis-common-protos      1.56.4\n",
      "GPUtil                        1.4.0\n",
      "greenlet                      2.0.1\n",
      "grpcio                        1.51.1\n",
      "h5py                          3.1.0\n",
      "httplib2                      0.21.0\n",
      "humanfriendly                 10.0\n",
      "hyperopt                      0.1.2\n",
      "idna                          3.3\n",
      "imageio                       2.22.1\n",
      "imbalanced-learn              0.9.1\n",
      "immutabledict                 2.2.3\n",
      "importlib-metadata            4.12.0\n",
      "importlib-resources           5.9.0\n",
      "iniconfig                     1.1.1\n",
      "ipykernel                     6.15.1\n",
      "ipympl                        0.9.1\n",
      "ipython                       8.4.0\n",
      "ipython-genutils              0.2.0\n",
      "ipywidgets                    7.7.1\n",
      "jax                           0.4.1\n",
      "jedi                          0.18.1\n",
      "Jinja2                        3.1.2\n",
      "joblib                        1.1.0\n",
      "Js2Py                         0.71\n",
      "jsonschema                    4.10.0\n",
      "jstyleson                     0.0.2\n",
      "jupyter                       1.0.0\n",
      "jupyter-client                7.3.4\n",
      "jupyter-console               6.4.4\n",
      "jupyter-core                  4.11.1\n",
      "jupyterlab-pygments           0.2.2\n",
      "jupyterlab-widgets            1.1.1\n",
      "kaggle                        1.5.12\n",
      "keras                         2.11.0\n",
      "keras-flops                   0.1.2\n",
      "Keras-Preprocessing           1.1.2\n",
      "kiwisolver                    1.4.4\n",
      "lab                           7.1\n",
      "lazypredict                   0.2.12\n",
      "libclang                      14.0.6\n",
      "librosa                       0.9.2\n",
      "lightgbm                      3.3.4\n",
      "lightning-utilities           0.3.0\n",
      "llvmlite                      0.36.0\n",
      "lxml                          4.9.1\n",
      "Mako                          1.2.3\n",
      "Markdown                      3.4.1\n",
      "MarkupSafe                    2.1.1\n",
      "matplotlib                    3.4.2\n",
      "matplotlib-inline             0.1.3\n",
      "mistune                       0.8.4\n",
      "mpmath                        1.2.1\n",
      "multidict                     6.0.2\n",
      "musdb                         0.4.0\n",
      "museval                       0.4.0\n",
      "nbclient                      0.6.6\n",
      "nbconvert                     6.5.3\n",
      "nbformat                      5.4.0\n",
      "nest-asyncio                  1.5.5\n",
      "networkx                      2.8.7\n",
      "nibabel                       4.0.2\n",
      "ninja                         1.10.2.4\n",
      "nltk                          3.7\n",
      "notebook                      6.4.12\n",
      "numba                         0.53.1\n",
      "numpy                         1.23.3\n",
      "oauth2client                  4.1.3\n",
      "oauthlib                      3.2.0\n",
      "onnx                          1.12.0\n",
      "onnx-simplifier               0.4.8\n",
      "onnx-tf                       1.8.0\n",
      "onnxruntime                   1.10.0\n",
      "onnxsim                       0.4.8\n",
      "opencv-contrib-python         4.6.0.66\n",
      "opencv-python                 4.6.0.66\n",
      "opencv-python-headless        4.6.0.66\n",
      "openvino2tensorflow           1.34.0\n",
      "opt-einsum                    3.3.0\n",
      "optuna                        3.0.3\n",
      "packaging                     21.3\n",
      "pandas                        1.4.3\n",
      "pandocfilters                 1.5.0\n",
      "parasail                      1.3.3\n",
      "parso                         0.8.3\n",
      "pathlib                       1.0.1\n",
      "patool                        1.12\n",
      "patsy                         0.5.3\n",
      "pbr                           5.11.0\n",
      "pexpect                       4.8.0\n",
      "pickleshare                   0.7.5\n",
      "Pillow                        9.3.0\n",
      "pip                           22.3.1\n",
      "pipwin                        0.5.2\n",
      "pluggy                        1.0.0\n",
      "pooch                         1.6.0\n",
      "portalocker                   2.7.0\n",
      "prettytable                   2.5.0\n",
      "progress                      1.6\n",
      "prometheus-client             0.14.1\n",
      "promise                       2.3\n",
      "prompt-toolkit                3.0.30\n",
      "protobuf                      3.19.6\n",
      "psutil                        5.9.1\n",
      "ptyprocess                    0.7.0\n",
      "pure-eval                     0.2.2\n",
      "py                            1.11.0\n",
      "py-cpuinfo                    8.0.0\n",
      "pyaml                         21.10.1\n",
      "pyasn1                        0.4.8\n",
      "pyasn1-modules                0.2.8\n",
      "pybind11                      2.10.0\n",
      "pycocotools                   2.0.6\n",
      "pycparser                     2.21\n",
      "pydicom                       2.3.0\n",
      "pydot                         1.4.2\n",
      "pyelftools                    0.29\n",
      "Pygments                      2.13.0\n",
      "pyjsparser                    2.7.1\n",
      "pymongo                       4.2.0\n",
      "pyparsing                     3.0.9\n",
      "pyperclip                     1.8.2\n",
      "PyPrind                       2.11.3\n",
      "pyrsistent                    0.18.1\n",
      "pyserial                      3.5\n",
      "pySmartDL                     1.3.4\n",
      "PySocks                       1.7.1\n",
      "pytest                        7.1.3\n",
      "pytest-dependency             0.5.1\n",
      "pytest-html-reporter          0.2.9\n",
      "python-dateutil               2.8.2\n",
      "python-dotenv                 0.21.0\n",
      "python-slugify                7.0.0\n",
      "pytorch-lightning             1.8.1\n",
      "pytz                          2022.2.1\n",
      "pytz-deprecation-shim         0.1.0.post0\n",
      "PyWavelets                    1.4.1\n",
      "PyYAML                        5.4.1\n",
      "pyzmq                         23.2.1\n",
      "qtconsole                     5.3.1\n",
      "QtPy                          2.2.0\n",
      "rawpy                         0.17.2\n",
      "regex                         2022.9.13\n",
      "requests                      2.28.1\n",
      "requests-oauthlib             1.3.1\n",
      "resampy                       0.4.0\n",
      "rich                          12.6.0\n",
      "rsa                           4.9\n",
      "sacrebleu                     2.3.1\n",
      "scikit-image                  0.19.3\n",
      "scikit-learn                  1.1.3\n",
      "scipy                         1.8.1\n",
      "seaborn                       0.11.2\n",
      "Send2Trash                    1.8.0\n",
      "sentencepiece                 0.1.97\n",
      "seqeval                       1.2.2\n",
      "setuptools                    49.2.1\n",
      "Shapely                       1.8.4\n",
      "simplejson                    3.17.6\n",
      "six                           1.15.0\n",
      "sklearn                       0.0\n",
      "sounddevice                   0.4.5\n",
      "SoundFile                     0.10.3.post1\n",
      "soupsieve                     2.3.2.post1\n",
      "SQLAlchemy                    1.4.43\n",
      "stack-data                    0.4.0\n",
      "statsmodels                   0.13.2\n",
      "stempeg                       0.2.3\n",
      "stevedore                     4.1.0\n",
      "sympy                         1.11.1\n",
      "tabulate                      0.9.0\n",
      "tensorboard                   2.11.2\n",
      "tensorboard-data-server       0.6.1\n",
      "tensorboard-plugin-wit        1.8.1\n",
      "tensorflow                    2.11.0\n",
      "tensorflow-addons             0.18.0\n",
      "tensorflow-datasets           4.7.0\n",
      "tensorflow-estimator          2.11.0\n",
      "tensorflow-gpu                2.11.0\n",
      "tensorflow-hub                0.12.0\n",
      "tensorflow-io-gcs-filesystem  0.27.0\n",
      "tensorflow-metadata           1.10.0\n",
      "tensorflow-model-optimization 0.7.3\n",
      "tensorflow-probability        0.17.0\n",
      "tensorflow-text               2.11.0\n",
      "termcolor                     1.1.0\n",
      "terminado                     0.15.0\n",
      "text-unidecode                1.3\n",
      "texttable                     1.6.4\n",
      "tf-models-official            2.11.2\n",
      "tf-slim                       1.1.0\n",
      "tflite-runtime                2.11.0\n",
      "tflite-support                0.3.1\n",
      "threadpoolctl                 3.1.0\n",
      "tifffile                      2022.8.12\n",
      "timm                          0.4.5\n",
      "tinycss2                      1.1.1\n",
      "tokenizers                    0.13.0\n",
      "toml                          0.10.2\n",
      "tomli                         2.0.1\n",
      "torch                         1.10.2+cu113\n",
      "torch-tb-profiler             0.4.0\n",
      "torchaudio                    0.10.2+cu113\n",
      "torchcontrib                  0.0.2\n",
      "torchlibrosa                  0.0.9\n",
      "torchmetrics                  0.10.2\n",
      "torchvision                   0.11.3+cu113\n",
      "tornado                       6.2\n",
      "tqdm                          4.64.1\n",
      "traitlets                     5.3.0\n",
      "txt2tags                      3.7\n",
      "typeguard                     2.13.3\n",
      "typer                         0.6.1\n",
      "typing_extensions             4.4.0\n",
      "tzdata                        2022.2\n",
      "tzlocal                       4.2\n",
      "uritemplate                   4.1.1\n",
      "urllib3                       1.26.11\n",
      "wavio                         0.0.4\n",
      "wcwidth                       0.2.5\n",
      "webencodings                  0.5.1\n",
      "Werkzeug                      2.2.2\n",
      "wget                          3.2\n",
      "wheel                         0.37.1\n",
      "widgetsnbextension            3.6.1\n",
      "wrapt                         1.12.1\n",
      "xgboost                       1.7.3\n",
      "yamlloader                    1.1.0\n",
      "yarl                          1.8.1\n",
      "zipp                          3.4.1\n"
     ]
    }
   ],
   "source": [
    "!pip list"
   ]
  },
  {
   "attachments": {},
   "cell_type": "markdown",
   "metadata": {},
   "source": [
    "## Accuracy computation"
   ]
  },
  {
   "cell_type": "code",
   "execution_count": 7,
   "metadata": {},
   "outputs": [],
   "source": [
    "def get_accuracy(conf_mat):\n",
    "    num_correct = np.sum(np.eye(conf_mat.shape[0]) * conf_mat, axis=1)\n",
    "    acc_classes = num_correct / np.sum(conf_mat, axis=1)\n",
    "    return np.mean(acc_classes)\n",
    "    "
   ]
  },
  {
   "cell_type": "code",
   "execution_count": 8,
   "metadata": {},
   "outputs": [
    {
     "data": {
      "text/plain": [
       "0.7689792695795131"
      ]
     },
     "execution_count": 8,
     "metadata": {},
     "output_type": "execute_result"
    }
   ],
   "source": [
    "import numpy as np\n",
    "# HTSAT test, acc= 0.76217943 \n",
    "htsat_arr = np.array([[9274, 2274,  250,   24],\n",
    "                        [ 246, 1959,  346,   34],\n",
    "                        [   3,  330, 1214,  429],\n",
    "                        [   0,    0,   41,  313]])\n",
    "# correct\n",
    "\n",
    "rain_arr = np.array([[7407, 1244,  102,   13],\n",
    "                    [ 329, 1385,  285,   16],\n",
    "                    [  14,  247,  999,  203],\n",
    "                    [   0,    2,   31,  204]])\n",
    "#76.898\n",
    "get_accuracy(rain_arr)\n"
   ]
  },
  {
   "attachments": {},
   "cell_type": "markdown",
   "metadata": {},
   "source": [
    "## Test undersampling (to get balanced)"
   ]
  },
  {
   "cell_type": "code",
   "execution_count": 27,
   "metadata": {},
   "outputs": [],
   "source": [
    "from sklearn.utils import class_weight\n",
    "\n",
    "def get_class_weight(labels):\n",
    "    y_integers = np.argmax(labels, axis=1)\n",
    "    class_weights = class_weight.compute_class_weight(class_weight='balanced', classes=np.unique(y_integers), y=y_integers)\n",
    "    return dict(enumerate(class_weights))\n",
    "\n",
    "\n",
    "def representative_data_gen2(X, labels, weights, num_samples=-1, seed=1):\n",
    "    labels = np.argmax(labels, axis=1)\n",
    "    labels_keys = Counter(labels).keys()\n",
    "    num_classes = len(labels_keys)\n",
    "    num_per_class = int(num_samples/num_classes)\n",
    "\n",
    "    sampling_dict = {}\n",
    "    for class_label in labels_keys:\n",
    "        sampling_dict.update({class_label : num_per_class}) \n",
    "\n",
    "    under_sampler = RandomUnderSampler(random_state=seed, sampling_strategy=sampling_dict)\n",
    "\n",
    "    # transform the dataset\n",
    "    original_shape = X[0].shape\n",
    "    X, labels  = under_sampler.fit_resample([x.flatten() for x in X], labels)\n",
    "\n",
    "    X = np.asarray([x.reshape(original_shape) for x in np.asarray(X)])\n",
    "    print('Resampled dataset shape %s' % Counter(labels)) \n",
    "    return (x for x in X) "
   ]
  },
  {
   "cell_type": "code",
   "execution_count": 10,
   "metadata": {},
   "outputs": [
    {
     "name": "stdout",
     "output_type": "stream",
     "text": [
      "extracting dataset\n",
      "[=================================> ]  100.0%   24/24\n"
     ]
    }
   ],
   "source": [
    "num_classes, num_splits, inputs, labels, audio_length, sensor_shape = dataloader.prepare_dataset(TYPE_LABELS, TYPE_INPUTS, SPLIT_FACTOR,\n",
    "                                                                                              timesteps=None, step_size=None, test_size=0.01, validation_size=0.01)\n",
    "X = inputs[0]['train']['audio']\n",
    "labels = labels[0]['train']"
   ]
  },
  {
   "cell_type": "code",
   "execution_count": 13,
   "metadata": {},
   "outputs": [
    {
     "data": {
      "text/plain": [
       "((81541, 8192, 1), (81541, 4))"
      ]
     },
     "execution_count": 13,
     "metadata": {},
     "output_type": "execute_result"
    }
   ],
   "source": [
    "\n",
    "X.shape, labels['rain'].shape"
   ]
  },
  {
   "cell_type": "code",
   "execution_count": 19,
   "metadata": {},
   "outputs": [],
   "source": [
    "weights = get_class_weight(labels['rain'])"
   ]
  },
  {
   "cell_type": "code",
   "execution_count": 24,
   "metadata": {},
   "outputs": [
    {
     "data": {
      "text/plain": [
       "(81541,)"
      ]
     },
     "execution_count": 24,
     "metadata": {},
     "output_type": "execute_result"
    }
   ],
   "source": [
    "labels['rain'].shape\n",
    "np.argmax(labels['rain'], axis=1).shape"
   ]
  },
  {
   "cell_type": "code",
   "execution_count": 29,
   "metadata": {},
   "outputs": [
    {
     "name": "stdout",
     "output_type": "stream",
     "text": [
      "4\n",
      "Resampled dataset shape Counter({0: 25, 1: 25, 2: 25, 3: 25})\n"
     ]
    },
    {
     "data": {
      "text/plain": [
       "(100, 8192, 1)"
      ]
     },
     "execution_count": 29,
     "metadata": {},
     "output_type": "execute_result"
    }
   ],
   "source": [
    "res = representative_data_gen2(X, labels['rain'], weights, num_samples=100, seed=1)\n",
    "res.shape"
   ]
  },
  {
   "cell_type": "code",
   "execution_count": 44,
   "metadata": {},
   "outputs": [],
   "source": [
    "from keras import regularizers\n",
    "\n",
    "def fake_Conv1D(x, filters, kernel_size, strides=1, l1_factor=0, l2_factor=0):\n",
    "    timesteps, feature_dim = x.shape[1:]\n",
    "    x = tf.reshape(x, (-1, 1, timesteps * feature_dim, 1))\n",
    "    # print(reshaped_input.shape)\n",
    "    conv2d_output = tf.keras.layers.Conv2D(filters, \n",
    "                                           kernel_size=(1, kernel_size), \n",
    "                                           strides=strides,\n",
    "                                           padding='same',\n",
    "                                           kernel_initializer='glorot_uniform',\n",
    "                                           kernel_regularizer=regularizers.L1L2(l1=l1_factor, l2=l2_factor))(x)\n",
    "    return tf.reshape(conv2d_output, (-1, timesteps, filters))"
   ]
  },
  {
   "cell_type": "code",
   "execution_count": 45,
   "metadata": {},
   "outputs": [
    {
     "data": {
      "text/plain": [
       "<KerasTensor: shape=(None, 1001, 22) dtype=float32 (created by layer 'tf.reshape_13')>"
      ]
     },
     "execution_count": 45,
     "metadata": {},
     "output_type": "execute_result"
    }
   ],
   "source": [
    "#\n",
    "timesteps = 1001\n",
    "feature_dim = 34\n",
    "filters = 22\n",
    "\n",
    "input_data = tf.keras.Input(shape=(timesteps, feature_dim))\n",
    "\n",
    "fake_Conv1D(input_data, filters, kernel_size=3, strides=1, l1_factor=0, l2_factor=0)\n"
   ]
  },
  {
   "cell_type": "code",
   "execution_count": 16,
   "metadata": {},
   "outputs": [],
   "source": [
    "\n",
    "from keras.layers import Lambda, Input, GlobalAveragePooling1D\n",
    "\n",
    "audio_shape = [1,  8302, 1]\n",
    "x = Input(shape=audio_shape, name=\"audio\")\n",
    "\n",
    "\n",
    "x_rain = tf.strided_slice(x, [0], [20])\n",
    "x_wind = tf.strided_slice(x, [20], [x.shape[-2]])"
   ]
  },
  {
   "cell_type": "code",
   "execution_count": 17,
   "metadata": {},
   "outputs": [
    {
     "data": {
      "text/plain": [
       "(<KerasTensor: shape=(None, 1, 8302, 1) dtype=float32 (created by layer 'tf.strided_slice')>,\n",
       " <KerasTensor: shape=(None, 1, 8302, 1) dtype=float32 (created by layer 'tf.strided_slice_1')>)"
      ]
     },
     "execution_count": 17,
     "metadata": {},
     "output_type": "execute_result"
    }
   ],
   "source": [
    "x_rain, x_wind"
   ]
  },
  {
   "cell_type": "code",
   "execution_count": 22,
   "metadata": {},
   "outputs": [
    {
     "data": {
      "text/plain": [
       "<KerasTensor: shape=(None, 1, 20, 1) dtype=float32 (created by layer 'tf.strided_slice_6')>"
      ]
     },
     "execution_count": 22,
     "metadata": {},
     "output_type": "execute_result"
    }
   ],
   "source": [
    "x_rain = tf.strided_slice(x, [0, 0, 0], [1, 1, 20], [1, 1, 1])\n",
    "x_rain"
   ]
  },
  {
   "cell_type": "code",
   "execution_count": 26,
   "metadata": {},
   "outputs": [
    {
     "data": {
      "text/plain": [
       "<KerasTensor: shape=(None, 0, 8281, 1) dtype=float32 (created by layer 'tf.strided_slice_10')>"
      ]
     },
     "execution_count": 26,
     "metadata": {},
     "output_type": "execute_result"
    }
   ],
   "source": [
    "x_wind = tf.strided_slice(x, [0, 0, 20], [1, -1], [1, 1, 1])\n",
    "x_wind"
   ]
  },
  {
   "cell_type": "code",
   "execution_count": null,
   "metadata": {},
   "outputs": [],
   "source": []
  }
 ],
 "metadata": {
  "kernelspec": {
   "display_name": "Python 3.9.2 ('python_env')",
   "language": "python",
   "name": "python3"
  },
  "language_info": {
   "codemirror_mode": {
    "name": "ipython",
    "version": 3
   },
   "file_extension": ".py",
   "mimetype": "text/x-python",
   "name": "python",
   "nbconvert_exporter": "python",
   "pygments_lexer": "ipython3",
   "version": "3.9.2"
  },
  "orig_nbformat": 4,
  "vscode": {
   "interpreter": {
    "hash": "53d754a3ba753cb5869708ec76a91178face46fe80726f56f484294e8198e321"
   }
  }
 },
 "nbformat": 4,
 "nbformat_minor": 2
}
