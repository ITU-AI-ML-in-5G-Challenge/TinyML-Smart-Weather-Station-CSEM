{
 "cells": [
  {
   "cell_type": "code",
   "execution_count": 3,
   "metadata": {},
   "outputs": [],
   "source": [
    "\"\"\"\"\"\n",
    " *  \\brief     torch_test.ipynb\n",
    " *  \\author    Jonathan Reymond\n",
    " *  \\version   1.0\n",
    " *  \\date      2023-02-14\n",
    " *  \\pre       None\n",
    " *  \\copyright (c) 2022 CSEM\n",
    " *\n",
    " *   CSEM S.A.\n",
    " *   Jaquet-Droz 1\n",
    " *   CH-2000 Neuchâtel\n",
    " *   http://www.csem.ch\n",
    " *\n",
    " *\n",
    " *   THIS PROGRAM IS CONFIDENTIAL AND CANNOT BE DISTRIBUTED\n",
    " *   WITHOUT THE CSEM PRIOR WRITTEN AGREEMENT.\n",
    " *\n",
    " *   CSEM is the owner of this source code and is authorised to use, to modify\n",
    " *   and to keep confidential all new modifications of this code.\n",
    " *\n",
    " \"\"\"\n",
    "\n",
    "os.chdir('/local/user/jrn/tinyml-challenge-2022')\n",
    "sys.path.insert(0, '/local/user/jrn/tinyml-challenge-2022/ml_training')\n",
    "sys.path.insert(0, '/local/user/jrn/tinyml-challenge-2022/ml_training/preprocess_data')\n",
    "from preprocess_data.prepare_data import get_final_dataframe\n",
    "import numpy as np\n",
    "import pandas as pd\n",
    "import seaborn as sns\n",
    "import matplotlib.pyplot as plt\n",
    "from tf_to_tflite import *\n",
    "from tensorflow import keras\n",
    "from sklearn.model_selection import train_test_split\n",
    "from constants_ml import *\n",
    "from sklearn.metrics import classification_report, confusion_matrix\n",
    "from models import models_dict\n",
    "import random\n",
    "from utils import *\n",
    "\n",
    "import dataloader\n",
    "from collections import Counter\n",
    "\n",
    "\n",
    "\n"
   ]
  },
  {
   "cell_type": "markdown",
   "metadata": {},
   "source": [
    "## Tflite model generation correction"
   ]
  },
  {
   "cell_type": "code",
   "execution_count": 39,
   "metadata": {},
   "outputs": [
    {
     "name": "stdout",
     "output_type": "stream",
     "text": [
      "Dataset already computed, loading from pickle\n"
     ]
    }
   ],
   "source": [
    "lowpass_freq = None\n",
    "merge_bucket_size = 1\n",
    "resample_frequency = None #SAMPLING_FREQUENCY / 2\n",
    "to_mfcc = False\n",
    "index_hours = range(85, 89)\n",
    "df = get_final_dataframe(merge_bucket_size, lowpass_freq, resample_frequency, to_mfcc, index_hours)\n",
    "X = df['audio'].to_list()\n",
    "labels = df['rain_count'].to_numpy()\n",
    "\n",
    "    \n",
    "X_list = [np.split(xi, SPLIT_FACTOR) for xi in X]\n",
    "X = list(itertools.chain.from_iterable(X_list))\n",
    "X = np.expand_dims(X, axis=-1)\n",
    "labels = np.repeat(labels, SPLIT_FACTOR)"
   ]
  },
  {
   "cell_type": "code",
   "execution_count": 41,
   "metadata": {},
   "outputs": [
    {
     "data": {
      "text/plain": [
       "Index(['timestamp', 'humidity', 'pressure', 'temperature', 'audio', 'wind_dir',\n",
       "       'wind_count', 'rain_count', 'wind_x', 'wind_y'],\n",
       "      dtype='object')"
      ]
     },
     "execution_count": 41,
     "metadata": {},
     "output_type": "execute_result"
    }
   ],
   "source": [
    "df.columns"
   ]
  },
  {
   "cell_type": "code",
   "execution_count": 40,
   "metadata": {},
   "outputs": [
    {
     "data": {
      "text/plain": [
       "10996"
      ]
     },
     "execution_count": 40,
     "metadata": {},
     "output_type": "execute_result"
    }
   ],
   "source": [
    "len(X)"
   ]
  },
  {
   "cell_type": "code",
   "execution_count": 6,
   "metadata": {},
   "outputs": [
    {
     "name": "stdout",
     "output_type": "stream",
     "text": [
      "Using Model M5\n"
     ]
    },
    {
     "name": "stderr",
     "output_type": "stream",
     "text": [
      "2022-11-14 16:35:45.647963: I tensorflow/stream_executor/cuda/cuda_gpu_executor.cc:939] successful NUMA node read from SysFS had negative value (-1), but there must be at least one NUMA node, so returning NUMA node zero\n",
      "2022-11-14 16:35:45.648578: I tensorflow/stream_executor/cuda/cuda_gpu_executor.cc:939] successful NUMA node read from SysFS had negative value (-1), but there must be at least one NUMA node, so returning NUMA node zero\n",
      "2022-11-14 16:35:45.649081: W tensorflow/stream_executor/platform/default/dso_loader.cc:64] Could not load dynamic library 'libcublas.so.11'; dlerror: libcublas.so.11: cannot open shared object file: No such file or directory\n",
      "2022-11-14 16:35:45.649139: W tensorflow/stream_executor/platform/default/dso_loader.cc:64] Could not load dynamic library 'libcublasLt.so.11'; dlerror: libcublasLt.so.11: cannot open shared object file: No such file or directory\n",
      "2022-11-14 16:35:45.649193: W tensorflow/stream_executor/platform/default/dso_loader.cc:64] Could not load dynamic library 'libcufft.so.10'; dlerror: libcufft.so.10: cannot open shared object file: No such file or directory\n",
      "2022-11-14 16:35:45.649250: W tensorflow/stream_executor/platform/default/dso_loader.cc:64] Could not load dynamic library 'libcurand.so.10'; dlerror: libcurand.so.10: cannot open shared object file: No such file or directory\n",
      "2022-11-14 16:35:45.649301: W tensorflow/stream_executor/platform/default/dso_loader.cc:64] Could not load dynamic library 'libcusolver.so.11'; dlerror: libcusolver.so.11: cannot open shared object file: No such file or directory\n",
      "2022-11-14 16:35:45.649350: W tensorflow/stream_executor/platform/default/dso_loader.cc:64] Could not load dynamic library 'libcusparse.so.11'; dlerror: libcusparse.so.11: cannot open shared object file: No such file or directory\n",
      "2022-11-14 16:35:45.649402: W tensorflow/stream_executor/platform/default/dso_loader.cc:64] Could not load dynamic library 'libcudnn.so.8'; dlerror: libcudnn.so.8: cannot open shared object file: No such file or directory\n",
      "2022-11-14 16:35:45.649415: W tensorflow/core/common_runtime/gpu/gpu_device.cc:1850] Cannot dlopen some GPU libraries. Please make sure the missing libraries mentioned above are installed properly if you would like to use GPU. Follow the guide at https://www.tensorflow.org/install/gpu for how to download and setup the required libraries for your platform.\n",
      "Skipping registering GPU devices...\n",
      "2022-11-14 16:35:45.649687: I tensorflow/core/platform/cpu_feature_guard.cc:151] This TensorFlow binary is optimized with oneAPI Deep Neural Network Library (oneDNN) to use the following CPU instructions in performance-critical operations:  AVX2 FMA\n",
      "To enable them in other operations, rebuild TensorFlow with the appropriate compiler flags.\n"
     ]
    },
    {
     "data": {
      "text/plain": [
       "<tensorflow.python.training.tracking.util.CheckpointLoadStatus at 0x7f8c32f8c8b0>"
      ]
     },
     "execution_count": 6,
     "metadata": {},
     "output_type": "execute_result"
    }
   ],
   "source": [
    "model = models_dict['m5'](X[0].shape[0], 3)\n",
    "model.load_weights(CHECKPOINT_FILEPATH)\n"
   ]
  },
  {
   "cell_type": "code",
   "execution_count": 64,
   "metadata": {},
   "outputs": [
    {
     "name": "stdout",
     "output_type": "stream",
     "text": [
      "('You must install pydot (`pip install pydot`) and install graphviz (see instructions at https://graphviz.gitlab.io/download/) ', 'for plot_model/model_to_dot to work.')\n",
      "Model: \"sequential\"\n",
      "_________________________________________________________________\n",
      " Layer (type)                Output Shape              Param #   \n",
      "=================================================================\n",
      " conv1d (Conv1D)             (None, 1639, 19)          1349      \n",
      "                                                                 \n",
      " batch_normalization (BatchN  (None, 1639, 19)         76        \n",
      " ormalization)                                                   \n",
      "                                                                 \n",
      " activation (Activation)     (None, 1639, 19)          0         \n",
      "                                                                 \n",
      " max_pooling1d (MaxPooling1D  (None, 409, 19)          0         \n",
      " )                                                               \n",
      "                                                                 \n",
      " conv1d_1 (Conv1D)           (None, 409, 96)           7392      \n",
      "                                                                 \n",
      " batch_normalization_1 (Batc  (None, 409, 96)          384       \n",
      " hNormalization)                                                 \n",
      "                                                                 \n",
      " activation_1 (Activation)   (None, 409, 96)           0         \n",
      "                                                                 \n",
      " conv1d_2 (Conv1D)           (None, 409, 96)           27744     \n",
      "                                                                 \n",
      " batch_normalization_2 (Batc  (None, 409, 96)          384       \n",
      " hNormalization)                                                 \n",
      "                                                                 \n",
      " activation_2 (Activation)   (None, 409, 96)           0         \n",
      "                                                                 \n",
      " conv1d_3 (Conv1D)           (None, 409, 96)           27744     \n",
      "                                                                 \n",
      " batch_normalization_3 (Batc  (None, 409, 96)          384       \n",
      " hNormalization)                                                 \n",
      "                                                                 \n",
      " activation_3 (Activation)   (None, 409, 96)           0         \n",
      "                                                                 \n",
      " max_pooling1d_1 (MaxPooling  (None, 102, 96)          0         \n",
      " 1D)                                                             \n",
      "                                                                 \n",
      " conv1d_4 (Conv1D)           (None, 102, 119)          34391     \n",
      "                                                                 \n",
      " batch_normalization_4 (Batc  (None, 102, 119)         476       \n",
      " hNormalization)                                                 \n",
      "                                                                 \n",
      " activation_4 (Activation)   (None, 102, 119)          0         \n",
      "                                                                 \n",
      " max_pooling1d_2 (MaxPooling  (None, 25, 119)          0         \n",
      " 1D)                                                             \n",
      "                                                                 \n",
      " lambda (Lambda)             (None, 119)               0         \n",
      "                                                                 \n",
      " dense (Dense)               (None, 110)               13200     \n",
      "                                                                 \n",
      " dense_1 (Dense)             (None, 100)               11100     \n",
      "                                                                 \n",
      " dense_2 (Dense)             (None, 3)                 303       \n",
      "                                                                 \n",
      "=================================================================\n",
      "Total params: 124,927\n",
      "Trainable params: 124,075\n",
      "Non-trainable params: 852\n",
      "_________________________________________________________________\n",
      "None\n"
     ]
    }
   ],
   "source": [
    "tf.keras.utils.plot_model(\n",
    "    model,\n",
    "    to_file=\"model.png\",\n",
    "    show_shapes=False,\n",
    "    show_dtype=False,\n",
    "    show_layer_names=True,\n",
    "    rankdir=\"TB\",\n",
    "    expand_nested=False,\n",
    "    dpi=160,\n",
    "    layer_range=None,\n",
    "    show_layer_activations=False,\n",
    ")\n",
    "print(model.summary())\n"
   ]
  },
  {
   "cell_type": "code",
   "execution_count": 7,
   "metadata": {},
   "outputs": [],
   "source": [
    "x_tr, x_te, y_tr, y_te = train_test_split(X, labels, test_size=0.3, random_state=1)\n"
   ]
  },
  {
   "cell_type": "code",
   "execution_count": 14,
   "metadata": {},
   "outputs": [],
   "source": [
    "def representative_data_gen(X):\n",
    "    for xi in X:\n",
    "        # need reshape (batch=1, size=32000, channel=1)\n",
    "        yield [np.array(xi, dtype=np.float32).reshape((1,-1, 1))]\n",
    "\n",
    "def get_tflite_interpreter2(model, with_optimization, with_quantization, store_path=None, X=None):\n",
    "    converter = tf.lite.TFLiteConverter.from_keras_model(model)\n",
    "    if with_optimization:\n",
    "        converter.optimizations = [tf.lite.Optimize.EXPERIMENTAL_SPARSITY, tf.lite.Optimize.DEFAULT]\n",
    "    if with_quantization:\n",
    "        X_r = X[5000:]\n",
    "        np.random.shuffle(X_r)\n",
    "        converter.representative_dataset = lambda : representative_data_gen(X_r)\n",
    "        # converter.target_spec.supported_ops = [tf.lite.OpsSet.TFLITE_BUILTINS_INT8] \n",
    "    tflite_model_ = converter.convert()\n",
    "    if store_path is not None:\n",
    "        tflite_model_file = pathlib.Path(store_path)\n",
    "        tflite_model_file.write_bytes(tflite_model_)\n",
    "\n",
    "    interpreter = tf.lite.Interpreter(model_content=tflite_model_)\n",
    "    interpreter.allocate_tensors()\n",
    "    input_details = interpreter.get_input_details()[0]['index']\n",
    "    output_details = interpreter.get_output_details()[0]['index']\n",
    "    return {'interpreter': interpreter, 'input':input_details, 'output':output_details}\n",
    "\n",
    "def is_correct(labels, outputs):\n",
    "    pred = outputs.argmax(axis=2)\n",
    "    return np.equal(labels, pred).astype(int)\n",
    "\n",
    "# for multiple inputs\n",
    "def tflite_eval(interpreter_dict, X):\n",
    "    interpreter = interpreter_dict['interpreter']\n",
    "    res = []\n",
    "    for i in range(len(X)):\n",
    "        if (i + 1)% 100 == 0 :\n",
    "            print('tflite evaluation :', i + 1, len(X), end=\"\\r\")\n",
    "        \n",
    "        interpreter.set_tensor(interpreter_dict['input'], X[i])\n",
    "        interpreter.invoke()\n",
    "        output_sample = interpreter.get_tensor(interpreter_dict['output'])\n",
    "        res.append(output_sample)\n",
    "    print()\n",
    "    return np.asarray(res)\n",
    "\n",
    "# for multiple inputs\n",
    "def tf_eval(tf_model, X):\n",
    "    infer_tf_model = tf_model.signatures[\"serving_default\"]\n",
    "    res = []\n",
    "    for i in range(len(X)):\n",
    "        if (i  + 1) % 100  == 0 :\n",
    "            print('tf evaluation :', i + 1, len(X), end=\"\\r\")\n",
    "        output_sample = infer_tf_model(X[i])['dense_2'].numpy()\n",
    "        res.append(output_sample)\n",
    "    print()\n",
    "    return res"
   ]
  },
  {
   "cell_type": "code",
   "execution_count": 15,
   "metadata": {},
   "outputs": [
    {
     "name": "stdout",
     "output_type": "stream",
     "text": [
      "INFO:tensorflow:Assets written to: /tmp/tmpt2clzg17/assets\n"
     ]
    },
    {
     "name": "stderr",
     "output_type": "stream",
     "text": [
      "INFO:tensorflow:Assets written to: /tmp/tmpt2clzg17/assets\n",
      "2022-11-14 16:47:04.177458: W tensorflow/compiler/mlir/lite/python/tf_tfl_flatbuffer_helpers.cc:363] Ignored output_format.\n",
      "2022-11-14 16:47:04.177482: W tensorflow/compiler/mlir/lite/python/tf_tfl_flatbuffer_helpers.cc:366] Ignored drop_control_dependency.\n",
      "2022-11-14 16:47:04.177659: I tensorflow/cc/saved_model/reader.cc:43] Reading SavedModel from: /tmp/tmpt2clzg17\n",
      "2022-11-14 16:47:04.182251: I tensorflow/cc/saved_model/reader.cc:107] Reading meta graph with tags { serve }\n",
      "2022-11-14 16:47:04.182266: I tensorflow/cc/saved_model/reader.cc:148] Reading SavedModel debug info (if present) from: /tmp/tmpt2clzg17\n",
      "2022-11-14 16:47:04.200302: I tensorflow/cc/saved_model/loader.cc:228] Restoring SavedModel bundle.\n",
      "2022-11-14 16:47:04.250867: I tensorflow/cc/saved_model/loader.cc:212] Running initialization op on SavedModel bundle at path: /tmp/tmpt2clzg17\n",
      "2022-11-14 16:47:04.278226: I tensorflow/cc/saved_model/loader.cc:301] SavedModel load for tags { serve }; Status: success: OK. Took 100568 microseconds.\n",
      "fully_quantize: 0, inference_type: 6, input_inference_type: 0, output_inference_type: 0\n"
     ]
    }
   ],
   "source": [
    "tflite_model = get_tflite_interpreter2(model, True, True, store_path=\"/local/user/jrn/tinyml-challenge-2022/results/m_test.tflite\", X=X)"
   ]
  },
  {
   "cell_type": "code",
   "execution_count": 16,
   "metadata": {},
   "outputs": [
    {
     "name": "stdout",
     "output_type": "stream",
     "text": [
      "tflite evaluation : 3200 3299\n"
     ]
    }
   ],
   "source": [
    "\n",
    "x_te_tflite = [tf.convert_to_tensor(xi.reshape(1, -1, 1)) for xi in x_te]\n",
    "res_tflite = tflite_eval(tflite_model, x_te_tflite)\n"
   ]
  },
  {
   "cell_type": "code",
   "execution_count": 17,
   "metadata": {},
   "outputs": [
    {
     "data": {
      "text/plain": [
       "array([[[0.99609375, 0.        , 0.        ]],\n",
       "\n",
       "       [[0.99609375, 0.        , 0.        ]],\n",
       "\n",
       "       [[0.99609375, 0.        , 0.        ]],\n",
       "\n",
       "       [[0.99609375, 0.        , 0.        ]],\n",
       "\n",
       "       [[0.99609375, 0.        , 0.        ]],\n",
       "\n",
       "       [[0.99609375, 0.        , 0.        ]],\n",
       "\n",
       "       [[0.99609375, 0.        , 0.        ]],\n",
       "\n",
       "       [[0.94140625, 0.05078125, 0.0078125 ]],\n",
       "\n",
       "       [[0.99609375, 0.        , 0.        ]],\n",
       "\n",
       "       [[0.99609375, 0.00390625, 0.        ]],\n",
       "\n",
       "       [[0.99609375, 0.        , 0.        ]],\n",
       "\n",
       "       [[0.99609375, 0.        , 0.        ]],\n",
       "\n",
       "       [[0.99609375, 0.        , 0.        ]],\n",
       "\n",
       "       [[0.99609375, 0.        , 0.        ]],\n",
       "\n",
       "       [[0.99609375, 0.        , 0.        ]],\n",
       "\n",
       "       [[0.53125   , 0.375     , 0.09375   ]],\n",
       "\n",
       "       [[0.99609375, 0.        , 0.        ]],\n",
       "\n",
       "       [[0.99609375, 0.        , 0.        ]],\n",
       "\n",
       "       [[0.99609375, 0.        , 0.        ]],\n",
       "\n",
       "       [[0.20703125, 0.6484375 , 0.14453125]]], dtype=float32)"
      ]
     },
     "execution_count": 17,
     "metadata": {},
     "output_type": "execute_result"
    }
   ],
   "source": [
    "res_tflite[:20]"
   ]
  },
  {
   "cell_type": "code",
   "execution_count": 31,
   "metadata": {},
   "outputs": [
    {
     "data": {
      "text/plain": [
       "array([[0.09609374],\n",
       "       [0.09609374],\n",
       "       [0.09609374],\n",
       "       ...,\n",
       "       [0.09609374],\n",
       "       [0.09609374],\n",
       "       [0.09609374]], dtype=float32)"
      ]
     },
     "execution_count": 31,
     "metadata": {},
     "output_type": "execute_result"
    }
   ],
   "source": [
    "res_tflite[:, :, 0]"
   ]
  },
  {
   "cell_type": "code",
   "execution_count": 37,
   "metadata": {},
   "outputs": [
    {
     "name": "stdout",
     "output_type": "stream",
     "text": [
      "[[2327  543  154]\n",
      " [ 106   94   61]\n",
      " [   6    1    7]]\n",
      "0.7359806001818733\n"
     ]
    }
   ],
   "source": [
    "res_tflite[:, :, 0] += 0.02 \n",
    "pred_tflite = np.argmax(res_tflite, 2).flatten()\n",
    "\n",
    "# print(confusion_matrix(pred_tf, labels_test))\n",
    "print(confusion_matrix(pred_tflite, y_te))\n",
    "\n",
    "acc = np.sum((pred_tflite == y_te).astype(np.int16)) / len(y_te)\n",
    "print(acc)"
   ]
  },
  {
   "cell_type": "code",
   "execution_count": 19,
   "metadata": {},
   "outputs": [
    {
     "name": "stdout",
     "output_type": "stream",
     "text": [
      "[[2081  144   13]\n",
      " [ 245  385   63]\n",
      " [ 113  109  146]]\n",
      "0.7917550772961504\n"
     ]
    }
   ],
   "source": [
    "y_pred = np.asarray(model.predict(x_te, verbose=0))\n",
    "y_pred = y_pred.argmax(axis=1)\n",
    "\n",
    "print(confusion_matrix(y_pred, y_te))\n",
    "acc = np.sum((y_pred == y_te).astype(np.int16)) / len(y_te)\n",
    "print(acc)"
   ]
  },
  {
   "cell_type": "markdown",
   "metadata": {},
   "source": [
    "## Test values"
   ]
  },
  {
   "cell_type": "code",
   "execution_count": null,
   "metadata": {},
   "outputs": [],
   "source": [
    "def wav_to_pcm(arr):\n",
    "    arr = arr.reshape((-1))\n",
    "    res = []\n",
    "    for val in arr :\n",
    "        val = val* 2**15\n",
    "        if val < 0 :\n",
    "            val += 2**16\n",
    "        res.append(int(val))\n",
    "    return res\n",
    "    "
   ]
  },
  {
   "cell_type": "code",
   "execution_count": null,
   "metadata": {},
   "outputs": [],
   "source": [
    "zeros_wav = np.zeros((1, 4096, 1), dtype=np.float32)\n",
    "zeros_pcm = wav_to_pcm(zeros_wav)\n",
    "print('zero value:', tflite_eval(tflite_interp_quant, [zeros_wav]))\n",
    "# print('pcm:', zeros_pcm)\n",
    "# print('wav:', list(zeros_wav.reshape((-1))))\n"
   ]
  },
  {
   "cell_type": "code",
   "execution_count": null,
   "metadata": {},
   "outputs": [],
   "source": [
    "wav = (np.arange(4096* 10, step = 10)/ 409600).reshape((1, 4096, 1)).astype(np.float32)\n",
    "\n",
    "zeros_pcm = wav_to_pcm(zeros_wav)\n",
    "print('zero value:', tflite_eval(tflite_interp_quant, [wav]))"
   ]
  },
  {
   "cell_type": "code",
   "execution_count": null,
   "metadata": {},
   "outputs": [],
   "source": [
    "sample_wav = np.array(X_test[2100], dtype=np.float32)\n",
    "sample_pcm = wav_to_pcm(sample_wav)\n",
    "print('sample value:', tflite_eval(tflite_interp_quant, [sample_wav]))\n",
    "print('pcm:', sample_pcm)\n",
    "print()\n",
    "print('wav:', list(sample_wav.reshape((-1))))"
   ]
  },
  {
   "cell_type": "code",
   "execution_count": null,
   "metadata": {},
   "outputs": [],
   "source": []
  },
  {
   "cell_type": "markdown",
   "metadata": {},
   "source": [
    "## Plots"
   ]
  },
  {
   "cell_type": "code",
   "execution_count": 4,
   "metadata": {},
   "outputs": [],
   "source": [
    "# Final \n",
    "arr1 = [[584,  40,  38],\n",
    " [ 59, 176,  77],\n",
    " [  9,  27, 101]]\n",
    "acc1 = 0.7749775052070618\n",
    "\n",
    "arr2 = [[584,  78],\n",
    " [ 68, 381]]\n",
    "acc2 = 0.8685868586858686\n",
    "\n",
    "\n",
    "\n",
    "# arr1 = [[1816,  514 ,  30],\n",
    "#  [ 598, 1513,  350],\n",
    "#  [  44,  393, 1437]]\n",
    "\n",
    "# arr2 = [[4441,  380],\n",
    "#  [ 437, 1437]]\n",
    "\n",
    "\n",
    "\n",
    "name = 'rain'\n",
    "\n",
    "if name == 'rain':\n",
    "    # arr1=[[9270,  397,   68],\n",
    "    # [1035, 1481,  205],\n",
    "    # [  55,  192,  687]]\n",
    "    \n",
    "    arr1 = [[4990,  778,  104],\n",
    "        [ 338, 1232,  247],\n",
    "        [   0 ,  75,  604]]\n",
    "\n",
    "\n",
    "    # arr2=[[12183,   273],\n",
    "    # [  247,   687]]\n",
    "    arr2 = [[7338, 351],\n",
    "            [75,  604]]\n",
    "else :\n",
    "    #wind\n",
    "    arr1=[[3362, 1235 ,  47],\n",
    "     [1104, 3315 , 504],\n",
    "     [  78,  996 ,2749]]\n",
    "\n",
    "    arr2=[[9016,  551],\n",
    "     [1074, 2749]]\n",
    "\n",
    "arr1 = np.asarray(arr1, dtype=np.int16)\n",
    "arr1 = arr1 / arr1.sum(axis=1).reshape((1, -1)).T\n",
    "\n",
    "arr2 = np.asarray(arr2, dtype=np.int16)\n",
    "arr2 = arr2 / arr2.sum(axis=1).reshape((1, -1)).T\n"
   ]
  },
  {
   "cell_type": "code",
   "execution_count": 2,
   "metadata": {},
   "outputs": [
    {
     "data": {
      "text/plain": [
       "[7338, 351]"
      ]
     },
     "execution_count": 2,
     "metadata": {},
     "output_type": "execute_result"
    }
   ],
   "source": [
    "[4990+ 778 + 338 + 1232, 104 + 247]"
   ]
  },
  {
   "cell_type": "code",
   "execution_count": 5,
   "metadata": {},
   "outputs": [
    {
     "data": {
      "text/plain": [
       "Text(14.999999999999996, 0.5, 'ground truth')"
      ]
     },
     "execution_count": 5,
     "metadata": {},
     "output_type": "execute_result"
    },
    {
     "data": {
      "image/png": "[encoded data removed]",
      "text/plain": [
       "<Figure size 288x252 with 2 Axes>"
      ]
     },
     "metadata": {
      "needs_background": "light"
     },
     "output_type": "display_data"
    }
   ],
   "source": [
    "\n",
    "\n",
    "df_cm = pd.DataFrame(np.around(arr1, 3), index = [i for i in ['no ' + name, 'little ' + name, name]],\n",
    "                  columns = ['no ' + name, 'little ' + name, name])\n",
    "plt.figure(figsize = (4,3.5))\n",
    "sns.heatmap(df_cm, annot=True, fmt='g', cbar_kws={'label': 'probability distribution'}).set_title(name.title() + ' confusion matrix')\n",
    "plt.xlabel('predictions', fontsize=11)\n",
    "plt.ylabel('ground truth', fontsize=11)\n",
    "# plt.savefig('confusion_matrix_' + name +'.png', dpi=150)"
   ]
  },
  {
   "cell_type": "code",
   "execution_count": 6,
   "metadata": {},
   "outputs": [
    {
     "data": {
      "text/plain": [
       "Text(14.999999999999996, 0.5, 'ground truth')"
      ]
     },
     "execution_count": 6,
     "metadata": {},
     "output_type": "execute_result"
    },
    {
     "data": {
      "image/png": "[encoded data removed]",
      "text/plain": [
       "<Figure size 288x252 with 2 Axes>"
      ]
     },
     "metadata": {
      "needs_background": "light"
     },
     "output_type": "display_data"
    }
   ],
   "source": [
    "df_cm = pd.DataFrame(np.around(arr2, 3), index = [i for i in ['no/little ' + name, name]],\n",
    "                  columns = ['no/little ' + name, name])\n",
    "plt.figure(figsize = (4,3.5))\n",
    "sns.heatmap(df_cm, annot=True, fmt='g', cbar_kws={'label': 'probability distribution'}).set_title(name.title() + ' confusion matrix')\n",
    "plt.xlabel('predictions', fontsize=11)\n",
    "plt.ylabel('ground truth', fontsize=11)\n",
    "# plt.savefig('confusion_matrix_' + name + '_binary.png', dpi=150)"
   ]
  },
  {
   "cell_type": "markdown",
   "metadata": {},
   "source": [
    "## Draft "
   ]
  },
  {
   "cell_type": "code",
   "execution_count": 3,
   "metadata": {},
   "outputs": [
    {
     "name": "stdout",
     "output_type": "stream",
     "text": [
      "extracting dataset\n",
      "[=================================> ]  100.0%   24/24\n"
     ]
    }
   ],
   "source": [
    "df = dataloader.get_dataset()"
   ]
  },
  {
   "cell_type": "code",
   "execution_count": 30,
   "metadata": {},
   "outputs": [],
   "source": [
    "def compress_labels2(x):\n",
    "    if x < 6:\n",
    "        return 0\n",
    "    elif x < 12:\n",
    "        return 1\n",
    "    else :\n",
    "        return 2"
   ]
  },
  {
   "cell_type": "code",
   "execution_count": 31,
   "metadata": {},
   "outputs": [
    {
     "data": {
      "text/plain": [
       "<AxesSubplot:xlabel='wind_count', ylabel='Count'>"
      ]
     },
     "execution_count": 31,
     "metadata": {},
     "output_type": "execute_result"
    },
    {
     "data": {
      "image/png": "[encoded data removed]",
      "text/plain": [
       "<Figure size 432x288 with 1 Axes>"
      ]
     },
     "metadata": {
      "needs_background": "light"
     },
     "output_type": "display_data"
    }
   ],
   "source": [
    "sns.histplot(df['wind_count'].map(compress_labels2))"
   ]
  },
  {
   "cell_type": "code",
   "execution_count": 19,
   "metadata": {},
   "outputs": [
    {
     "data": {
      "text/plain": [
       "<AxesSubplot:xlabel='wind_count', ylabel='Count'>"
      ]
     },
     "execution_count": 19,
     "metadata": {},
     "output_type": "execute_result"
    },
    {
     "data": {
      "image/png": "[encoded data removed]",
      "text/plain": [
       "<Figure size 432x288 with 1 Axes>"
      ]
     },
     "metadata": {
      "needs_background": "light"
     },
     "output_type": "display_data"
    }
   ],
   "source": [
    "sns.histplot(df['wind_count'])"
   ]
  },
  {
   "cell_type": "code",
   "execution_count": 12,
   "metadata": {},
   "outputs": [
    {
     "data": {
      "text/plain": [
       "[(0.0, 5243),\n",
       " (1.0, 1),\n",
       " (2.0, 3908),\n",
       " (3.0, 2),\n",
       " (4.0, 5583),\n",
       " (5.0, 4),\n",
       " (6.0, 5689),\n",
       " (7.0, 12),\n",
       " (8.0, 5373),\n",
       " (9.0, 12),\n",
       " (10.0, 4393),\n",
       " (11.0, 7),\n",
       " (12.0, 3452),\n",
       " (13.0, 5),\n",
       " (14.0, 2569),\n",
       " (15.0, 8),\n",
       " (16.0, 1807),\n",
       " (17.0, 2),\n",
       " (18.0, 1291),\n",
       " (19.0, 4),\n",
       " (20.0, 853),\n",
       " (21.0, 3),\n",
       " (22.0, 626),\n",
       " (23.0, 2),\n",
       " (24.0, 341),\n",
       " (26.0, 220),\n",
       " (28.0, 158),\n",
       " (29.0, 2),\n",
       " (30.0, 107),\n",
       " (32.0, 57),\n",
       " (34.0, 50),\n",
       " (36.0, 25),\n",
       " (38.0, 11),\n",
       " (40.0, 11),\n",
       " (42.0, 5),\n",
       " (44.0, 2),\n",
       " (46.0, 2),\n",
       " (48.0, 3)]"
      ]
     },
     "execution_count": 12,
     "metadata": {},
     "output_type": "execute_result"
    }
   ],
   "source": [
    "sorted(Counter(df['wind_count']).items())"
   ]
  },
  {
   "cell_type": "code",
   "execution_count": 9,
   "metadata": {},
   "outputs": [
    {
     "data": {
      "text/html": [
       "<div>\n",
       "<style scoped>\n",
       "    .dataframe tbody tr th:only-of-type {\n",
       "        vertical-align: middle;\n",
       "    }\n",
       "\n",
       "    .dataframe tbody tr th {\n",
       "        vertical-align: top;\n",
       "    }\n",
       "\n",
       "    .dataframe thead th {\n",
       "        text-align: right;\n",
       "    }\n",
       "</style>\n",
       "<table border=\"1\" class=\"dataframe\">\n",
       "  <thead>\n",
       "    <tr style=\"text-align: right;\">\n",
       "      <th></th>\n",
       "      <th>timestamp</th>\n",
       "      <th>humidity</th>\n",
       "      <th>pressure</th>\n",
       "      <th>temperature</th>\n",
       "      <th>audio</th>\n",
       "      <th>wind_dir</th>\n",
       "      <th>wind_count</th>\n",
       "      <th>rain_count</th>\n",
       "      <th>wind_x</th>\n",
       "      <th>wind_y</th>\n",
       "    </tr>\n",
       "  </thead>\n",
       "  <tbody>\n",
       "    <tr>\n",
       "      <th>0</th>\n",
       "      <td>306002.389</td>\n",
       "      <td>0.884332</td>\n",
       "      <td>0.115592</td>\n",
       "      <td>0.185033</td>\n",
       "      <td>[-0.05419922, -0.0541687, -0.0541687, -0.05419...</td>\n",
       "      <td>0.714286</td>\n",
       "      <td>0.0</td>\n",
       "      <td>0.0</td>\n",
       "      <td>0.500000</td>\n",
       "      <td>0.470588</td>\n",
       "    </tr>\n",
       "    <tr>\n",
       "      <th>1</th>\n",
       "      <td>306014.653</td>\n",
       "      <td>0.883627</td>\n",
       "      <td>0.110173</td>\n",
       "      <td>0.185033</td>\n",
       "      <td>[-0.054473877, -0.05444336, -0.054504395, -0.0...</td>\n",
       "      <td>0.714286</td>\n",
       "      <td>0.0</td>\n",
       "      <td>0.0</td>\n",
       "      <td>0.500000</td>\n",
       "      <td>0.470588</td>\n",
       "    </tr>\n",
       "    <tr>\n",
       "      <th>2</th>\n",
       "      <td>306016.697</td>\n",
       "      <td>0.883479</td>\n",
       "      <td>0.116900</td>\n",
       "      <td>0.186590</td>\n",
       "      <td>[-0.05456543, -0.054504395, -0.054382324, -0.0...</td>\n",
       "      <td>0.714286</td>\n",
       "      <td>0.0</td>\n",
       "      <td>0.0</td>\n",
       "      <td>0.500000</td>\n",
       "      <td>0.470588</td>\n",
       "    </tr>\n",
       "    <tr>\n",
       "      <th>3</th>\n",
       "      <td>306018.741</td>\n",
       "      <td>0.884464</td>\n",
       "      <td>0.109880</td>\n",
       "      <td>0.185967</td>\n",
       "      <td>[-0.054504395, -0.054534912, -0.054504395, -0....</td>\n",
       "      <td>0.714286</td>\n",
       "      <td>0.0</td>\n",
       "      <td>0.0</td>\n",
       "      <td>0.500000</td>\n",
       "      <td>0.470588</td>\n",
       "    </tr>\n",
       "    <tr>\n",
       "      <th>4</th>\n",
       "      <td>306020.785</td>\n",
       "      <td>0.884464</td>\n",
       "      <td>0.109880</td>\n",
       "      <td>0.185967</td>\n",
       "      <td>[-0.0546875, -0.0546875, -0.054626465, -0.0545...</td>\n",
       "      <td>0.714286</td>\n",
       "      <td>0.0</td>\n",
       "      <td>0.0</td>\n",
       "      <td>0.500000</td>\n",
       "      <td>0.470588</td>\n",
       "    </tr>\n",
       "    <tr>\n",
       "      <th>...</th>\n",
       "      <td>...</td>\n",
       "      <td>...</td>\n",
       "      <td>...</td>\n",
       "      <td>...</td>\n",
       "      <td>...</td>\n",
       "      <td>...</td>\n",
       "      <td>...</td>\n",
       "      <td>...</td>\n",
       "      <td>...</td>\n",
       "      <td>...</td>\n",
       "    </tr>\n",
       "    <tr>\n",
       "      <th>1028</th>\n",
       "      <td>319280.677</td>\n",
       "      <td>0.889803</td>\n",
       "      <td>0.147411</td>\n",
       "      <td>0.236120</td>\n",
       "      <td>[-0.055145264, -0.055023193, -0.054992676, -0....</td>\n",
       "      <td>0.142857</td>\n",
       "      <td>4.0</td>\n",
       "      <td>1.0</td>\n",
       "      <td>0.588388</td>\n",
       "      <td>0.553777</td>\n",
       "    </tr>\n",
       "    <tr>\n",
       "      <th>1029</th>\n",
       "      <td>319284.765</td>\n",
       "      <td>0.890297</td>\n",
       "      <td>0.146627</td>\n",
       "      <td>0.235809</td>\n",
       "      <td>[-0.054504395, -0.05456543, -0.054656982, -0.0...</td>\n",
       "      <td>0.285714</td>\n",
       "      <td>8.0</td>\n",
       "      <td>1.0</td>\n",
       "      <td>0.500000</td>\n",
       "      <td>0.705882</td>\n",
       "    </tr>\n",
       "    <tr>\n",
       "      <th>1030</th>\n",
       "      <td>319286.809</td>\n",
       "      <td>0.890991</td>\n",
       "      <td>0.148524</td>\n",
       "      <td>0.235497</td>\n",
       "      <td>[-0.055419922, -0.055419922, -0.055114746, -0....</td>\n",
       "      <td>0.285714</td>\n",
       "      <td>8.0</td>\n",
       "      <td>1.0</td>\n",
       "      <td>0.500000</td>\n",
       "      <td>0.705882</td>\n",
       "    </tr>\n",
       "    <tr>\n",
       "      <th>1031</th>\n",
       "      <td>319288.853</td>\n",
       "      <td>0.891607</td>\n",
       "      <td>0.152053</td>\n",
       "      <td>0.235809</td>\n",
       "      <td>[-0.05532837, -0.05529785, -0.05529785, -0.055...</td>\n",
       "      <td>0.285714</td>\n",
       "      <td>8.0</td>\n",
       "      <td>1.0</td>\n",
       "      <td>0.500000</td>\n",
       "      <td>0.705882</td>\n",
       "    </tr>\n",
       "    <tr>\n",
       "      <th>1032</th>\n",
       "      <td>319290.897</td>\n",
       "      <td>0.891898</td>\n",
       "      <td>0.145811</td>\n",
       "      <td>0.235497</td>\n",
       "      <td>[-0.05444336, -0.05444336, -0.05444336, -0.054...</td>\n",
       "      <td>0.285714</td>\n",
       "      <td>12.0</td>\n",
       "      <td>0.0</td>\n",
       "      <td>0.500000</td>\n",
       "      <td>0.823529</td>\n",
       "    </tr>\n",
       "  </tbody>\n",
       "</table>\n",
       "<p>5498 rows × 10 columns</p>\n",
       "</div>"
      ],
      "text/plain": [
       "       timestamp  humidity  pressure  temperature  \\\n",
       "0     306002.389  0.884332  0.115592     0.185033   \n",
       "1     306014.653  0.883627  0.110173     0.185033   \n",
       "2     306016.697  0.883479  0.116900     0.186590   \n",
       "3     306018.741  0.884464  0.109880     0.185967   \n",
       "4     306020.785  0.884464  0.109880     0.185967   \n",
       "...          ...       ...       ...          ...   \n",
       "1028  319280.677  0.889803  0.147411     0.236120   \n",
       "1029  319284.765  0.890297  0.146627     0.235809   \n",
       "1030  319286.809  0.890991  0.148524     0.235497   \n",
       "1031  319288.853  0.891607  0.152053     0.235809   \n",
       "1032  319290.897  0.891898  0.145811     0.235497   \n",
       "\n",
       "                                                  audio  wind_dir  wind_count  \\\n",
       "0     [-0.05419922, -0.0541687, -0.0541687, -0.05419...  0.714286         0.0   \n",
       "1     [-0.054473877, -0.05444336, -0.054504395, -0.0...  0.714286         0.0   \n",
       "2     [-0.05456543, -0.054504395, -0.054382324, -0.0...  0.714286         0.0   \n",
       "3     [-0.054504395, -0.054534912, -0.054504395, -0....  0.714286         0.0   \n",
       "4     [-0.0546875, -0.0546875, -0.054626465, -0.0545...  0.714286         0.0   \n",
       "...                                                 ...       ...         ...   \n",
       "1028  [-0.055145264, -0.055023193, -0.054992676, -0....  0.142857         4.0   \n",
       "1029  [-0.054504395, -0.05456543, -0.054656982, -0.0...  0.285714         8.0   \n",
       "1030  [-0.055419922, -0.055419922, -0.055114746, -0....  0.285714         8.0   \n",
       "1031  [-0.05532837, -0.05529785, -0.05529785, -0.055...  0.285714         8.0   \n",
       "1032  [-0.05444336, -0.05444336, -0.05444336, -0.054...  0.285714        12.0   \n",
       "\n",
       "      rain_count    wind_x    wind_y  \n",
       "0            0.0  0.500000  0.470588  \n",
       "1            0.0  0.500000  0.470588  \n",
       "2            0.0  0.500000  0.470588  \n",
       "3            0.0  0.500000  0.470588  \n",
       "4            0.0  0.500000  0.470588  \n",
       "...          ...       ...       ...  \n",
       "1028         1.0  0.588388  0.553777  \n",
       "1029         1.0  0.500000  0.705882  \n",
       "1030         1.0  0.500000  0.705882  \n",
       "1031         1.0  0.500000  0.705882  \n",
       "1032         0.0  0.500000  0.823529  \n",
       "\n",
       "[5498 rows x 10 columns]"
      ]
     },
     "execution_count": 9,
     "metadata": {},
     "output_type": "execute_result"
    }
   ],
   "source": [
    "df = pd.read_pickle('/local/user/jrn/tinyml-challenge-2022/final_dataset_86_87_88.pkl')\n"
   ]
  },
  {
   "cell_type": "code",
   "execution_count": 8,
   "metadata": {},
   "outputs": [
    {
     "data": {
      "text/plain": [
       "0.0    4053\n",
       "1.0    1027\n",
       "2.0     418\n",
       "Name: rain_count, dtype: int64"
      ]
     },
     "execution_count": 8,
     "metadata": {},
     "output_type": "execute_result"
    }
   ],
   "source": [
    "df['rain_count'].value_counts()"
   ]
  },
  {
   "cell_type": "code",
   "execution_count": null,
   "metadata": {},
   "outputs": [],
   "source": []
  },
  {
   "attachments": {},
   "cell_type": "markdown",
   "metadata": {},
   "source": [
    "## one hot encoding test"
   ]
  },
  {
   "cell_type": "code",
   "execution_count": 4,
   "metadata": {},
   "outputs": [
    {
     "data": {
      "text/plain": [
       "(array([[0]]),\n",
       " array([[1., 0., 0., 0., 0., 0., 1., 0., 0.],\n",
       "        [0., 0., 1., 0., 0., 0., 0., 1., 0.],\n",
       "        [0., 0., 0., 0., 1., 0., 0., 0., 1.],\n",
       "        [0., 1., 0., 0., 0., 1., 0., 0., 0.],\n",
       "        [0., 1., 0., 0., 0., 1., 0., 0., 0.],\n",
       "        [0., 1., 0., 0., 0., 0., 1., 0., 0.],\n",
       "        [0., 0., 0., 1., 0., 0., 0., 0., 1.],\n",
       "        [0., 0., 0., 1., 0., 0., 1., 0., 0.],\n",
       "        [0., 0., 1., 0., 0., 0., 0., 1., 0.]]),\n",
       " [5, 4])"
      ]
     },
     "execution_count": 4,
     "metadata": {},
     "output_type": "execute_result"
    }
   ],
   "source": [
    "labels_rain = [0,2,4,1,1,1,3,3,2]\n",
    "labels_wind = [1,2,3,0,0,1,3,1,2]\n",
    "X = [0]\n",
    "reformat_dataset(X, (labels_rain, labels_wind), True)"
   ]
  }
 ],
 "metadata": {
  "kernelspec": {
   "display_name": "Python 3.9.2 ('python_env')",
   "language": "python",
   "name": "python3"
  },
  "language_info": {
   "codemirror_mode": {
    "name": "ipython",
    "version": 3
   },
   "file_extension": ".py",
   "mimetype": "text/x-python",
   "name": "python",
   "nbconvert_exporter": "python",
   "pygments_lexer": "ipython3",
   "version": "3.9.2 (default, Mar 23 2021, 21:08:59) \n[GCC 4.8.5 20150623 (Red Hat 4.8.5-44)]"
  },
  "orig_nbformat": 4,
  "vscode": {
   "interpreter": {
    "hash": "53d754a3ba753cb5869708ec76a91178face46fe80726f56f484294e8198e321"
   }
  }
 },
 "nbformat": 4,
 "nbformat_minor": 2
}
